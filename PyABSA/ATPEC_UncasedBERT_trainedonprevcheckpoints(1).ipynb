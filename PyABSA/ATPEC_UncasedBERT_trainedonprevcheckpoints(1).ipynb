{
  "cells": [
    {
      "cell_type": "code",
      "execution_count": null,
      "metadata": {
        "id": "MboxaHb1HO1C"
      },
      "outputs": [],
      "source": [
        "# import tensorflow as tf\n",
        "# print(tf.__version__)"
      ]
    },
    {
      "cell_type": "code",
      "execution_count": null,
      "metadata": {
        "id": "I7HRr8qDHO1J"
      },
      "outputs": [],
      "source": [
        "from pyabsa import AspectTermExtraction as ATEPC"
      ]
    },
    {
      "cell_type": "code",
      "execution_count": null,
      "metadata": {
        "id": "hU0nr0ifHO1K",
        "outputId": "24cfe44e-f7cf-48bc-a3a0-e57accfd90c4"
      },
      "outputs": [
        {
          "name": "stdout",
          "output_type": "stream",
          "text": [
            "[2023-04-08 18:31:29] (2.1.5) Datasets already exist in d:\\Assignments\\TestCode\\TestEnv\\integrated_datasets, skip download\n"
          ]
        }
      ],
      "source": [
        "from pyabsa import download_all_available_datasets\n",
        "download_all_available_datasets()"
      ]
    },
    {
      "cell_type": "code",
      "execution_count": null,
      "metadata": {
        "id": "Pcnom-SeHO1L"
      },
      "outputs": [],
      "source": [
        "config = (\n",
        "    ATEPC.ATEPCConfigManager.get_atepc_config_english()\n",
        ")  # this config contains 'pretrained_bert', it is based on pretrained models\n",
        "config.model = ATEPC.ATEPCModelList.FAST_LCF_ATEPC  # improved version of LCF-ATEPC"
      ]
    },
    {
      "cell_type": "code",
      "execution_count": null,
      "metadata": {
        "id": "c-6NCpcbHO1M",
        "outputId": "3192f1c9-fe3e-4425-fb8f-0552aebc2414"
      },
      "outputs": [
        {
          "name": "stdout",
          "output_type": "stream",
          "text": [
            "[2023-04-08 18:31:29] (2.1.5) Set Model Device: cuda:0\n",
            "[2023-04-08 18:31:29] (2.1.5) Device Name: NVIDIA GeForce RTX 3070 Ti Laptop GPU\n",
            "2023-04-08 18:31:29,888 INFO: PyABSA version: 2.1.5\n",
            "2023-04-08 18:31:29,888 INFO: Transformers version: 4.26.1\n",
            "2023-04-08 18:31:29,888 INFO: Torch version: 1.13.1+cuda11.7\n",
            "2023-04-08 18:31:29,889 INFO: Device: NVIDIA GeForce RTX 3070 Ti Laptop GPU\n",
            "[2023-04-08 18:31:29] (2.1.5) Try to load ['119.Yelp', '101.Updated', '116.restaurant16', '115.restaurant15'] dataset from local disk\n",
            "[2023-04-08 18:31:30] (2.1.5) Try to load ['119.Yelp', '101.Updated', '116.restaurant16', '115.restaurant15'] dataset from local disk\n",
            "[2023-04-08 18:31:30] (2.1.5) Try to load ['119.Yelp', '101.Updated', '116.restaurant16', '115.restaurant15'] dataset from local disk\n",
            "[2023-04-08 18:31:30] (2.1.5) Try to load ['119.Yelp', '101.Updated', '116.restaurant16', '115.restaurant15'] dataset from local disk\n",
            "2023-04-08 18:31:30,965 INFO: Please DO NOT mix datasets with different sentiment labels for trainer & inference !\n"
          ]
        },
        {
          "name": "stderr",
          "output_type": "stream",
          "text": [
            "Using bos_token, but it is not set yet.\n",
            "Using eos_token, but it is not set yet.\n"
          ]
        },
        {
          "name": "stdout",
          "output_type": "stream",
          "text": [
            "[2023-04-08 18:31:31] (2.1.5) warning! ignore detected error line(s) in input file:  O -100\n",
            "\n"
          ]
        },
        {
          "name": "stderr",
          "output_type": "stream",
          "text": [
            "convert examples to features:   1%|          | 56/5470 [00:00<00:19, 279.20it/s]Token indices sequence length is longer than the specified maximum sequence length for this model (1034 > 512). Running this sequence through the model will result in indexing errors\n",
            "convert examples to features:  51%|█████     | 2773/5470 [00:07<00:01, 1372.42it/s]"
          ]
        },
        {
          "name": "stdout",
          "output_type": "stream",
          "text": [
            "2023-04-08 18:31:39,149 WARNING: AspectTooLongWarning -> <aspect: egg noodles in the beef broth with shrimp dumplings and slices of bbq roast pork> is too long, <text: i fell in love with the egg noodles in the beef broth with shrimp dumplings and slices of bbq roast pork .>, <polarity: Positive>\n"
          ]
        },
        {
          "name": "stderr",
          "output_type": "stream",
          "text": [
            "convert examples to features:  87%|████████▋ | 4780/5470 [00:11<00:00, 1379.37it/s]"
          ]
        },
        {
          "name": "stdout",
          "output_type": "stream",
          "text": [
            "2023-04-08 18:31:43,112 WARNING: AspectTooLongWarning -> <aspect: egg noodles in the beef broth with shrimp dumplings and slices of bbq roast pork> is too long, <text: i fell in love with the egg noodles in the beef broth with shrimp dumplings and slices of bbq roast pork .>, <polarity: Positive>\n"
          ]
        },
        {
          "name": "stderr",
          "output_type": "stream",
          "text": [
            "convert examples to features:  93%|█████████▎| 5062/5470 [00:11<00:00, 1357.48it/s]"
          ]
        },
        {
          "name": "stdout",
          "output_type": "stream",
          "text": [
            "2023-04-08 18:31:43,342 WARNING: AspectTooLongWarning -> <aspect: cocktail with citrus vodka and lemon and lime juice and mint leaves> is too long, <text: the have a great cocktail with citrus vodka and lemon and lime juice and mint leaves that is to die for !>, <polarity: Positive>\n"
          ]
        },
        {
          "name": "stderr",
          "output_type": "stream",
          "text": [
            "convert examples to features: 100%|██████████| 5470/5470 [00:11<00:00, 468.76it/s] "
          ]
        },
        {
          "name": "stdout",
          "output_type": "stream",
          "text": [
            "2023-04-08 18:31:43,620 INFO: Dataset Label Details: {'Negative': 1451, 'Neutral': 278, 'Positive': 3738, 'Sum': 5467}\n"
          ]
        },
        {
          "name": "stderr",
          "output_type": "stream",
          "text": [
            "\n"
          ]
        },
        {
          "name": "stdout",
          "output_type": "stream",
          "text": [
            "[2023-04-08 18:31:43] (2.1.5) warning! ignore detected error line(s) in input file:  O -100\n",
            "\n"
          ]
        },
        {
          "name": "stderr",
          "output_type": "stream",
          "text": [
            "convert examples to features:  21%|██▏       | 405/1891 [00:00<00:02, 678.56it/s]"
          ]
        },
        {
          "name": "stdout",
          "output_type": "stream",
          "text": [
            "2023-04-08 18:31:45,154 WARNING: AspectTooLongWarning -> <aspect: cocktail with citrus vodka and lemon and lime juice and mint leaves> is too long, <text: the have a great cocktail with citrus vodka and lemon and lime juice and mint leaves that is to die for !>, <polarity: Positive>\n"
          ]
        },
        {
          "name": "stderr",
          "output_type": "stream",
          "text": [
            "convert examples to features:  57%|█████▋    | 1085/1891 [00:01<00:00, 1268.91it/s]"
          ]
        },
        {
          "name": "stdout",
          "output_type": "stream",
          "text": [
            "2023-04-08 18:31:45,699 WARNING: AspectTooLongWarning -> <aspect: appetizer of oysters , lobster , crab ( small size )> is too long, <text: the appetizer of oysters , lobster , crab ( small size ) made a perfect entre for my wife .>, <polarity: Positive>\n"
          ]
        },
        {
          "name": "stderr",
          "output_type": "stream",
          "text": [
            "convert examples to features: 100%|██████████| 1891/1891 [00:03<00:00, 548.64it/s] "
          ]
        },
        {
          "name": "stdout",
          "output_type": "stream",
          "text": [
            "2023-04-08 18:31:47,602 INFO: Dataset Label Details: {'Negative': 449, 'Neutral': 112, 'Positive': 1328, 'Sum': 1889}\n"
          ]
        },
        {
          "name": "stderr",
          "output_type": "stream",
          "text": [
            "\n",
            "Some weights of the model checkpoint at bert-large-uncased were not used when initializing BertModel: ['cls.predictions.transform.dense.weight', 'cls.seq_relationship.weight', 'cls.predictions.transform.LayerNorm.bias', 'cls.predictions.decoder.weight', 'cls.seq_relationship.bias', 'cls.predictions.transform.dense.bias', 'cls.predictions.transform.LayerNorm.weight', 'cls.predictions.bias']\n",
            "- This IS expected if you are initializing BertModel from the checkpoint of a model trained on another task or with another architecture (e.g. initializing a BertForSequenceClassification model from a BertForPreTraining model).\n",
            "- This IS NOT expected if you are initializing BertModel from the checkpoint of a model that you expect to be exactly identical (initializing a BertForSequenceClassification model from a BertForSequenceClassification model).\n"
          ]
        },
        {
          "name": "stdout",
          "output_type": "stream",
          "text": [
            "2023-04-08 18:31:50,104 INFO: Save cache dataset to fast_lcf_atepc.my_dataset.dataset.7a18b389628b7c5e7edd4c1254524de8a4e90f4d2b58b49fef969f9732377205.cache\n",
            "2023-04-08 18:31:50,604 INFO: cuda memory allocated:1391793152\n",
            "2023-04-08 18:31:50,604 INFO: ABSADatasetsVersion:None\t-->\tCalling Count:0\n",
            "2023-04-08 18:31:50,606 INFO: IOB_label_to_index:{'B-ASP': 1, 'I-ASP': 2, 'O': 3, '[CLS]': 4, '[SEP]': 5}\t-->\tCalling Count:1\n",
            "2023-04-08 18:31:50,606 INFO: MV:<metric_visualizer.metric_visualizer.MetricVisualizer object at 0x000001FB1F4965E0>\t-->\tCalling Count:0\n",
            "2023-04-08 18:31:50,606 INFO: PyABSAVersion:2.1.5\t-->\tCalling Count:1\n",
            "2023-04-08 18:31:50,607 INFO: SRD:3\t-->\tCalling Count:14712\n",
            "2023-04-08 18:31:50,607 INFO: TorchVersion:1.13.1+cuda11.7\t-->\tCalling Count:1\n",
            "2023-04-08 18:31:50,607 INFO: TransformersVersion:4.26.1\t-->\tCalling Count:1\n",
            "2023-04-08 18:31:50,608 INFO: auto_device:True\t-->\tCalling Count:3\n",
            "2023-04-08 18:31:50,608 INFO: batch_size:8\t-->\tCalling Count:4\n",
            "2023-04-08 18:31:50,608 INFO: cache_dataset:True\t-->\tCalling Count:1\n",
            "2023-04-08 18:31:50,609 INFO: checkpoint_save_mode:1\t-->\tCalling Count:4\n",
            "2023-04-08 18:31:50,609 INFO: cross_validate_fold:-1\t-->\tCalling Count:0\n",
            "2023-04-08 18:31:50,610 INFO: dataset_file:{'train': ['New folder\\\\119.Yelp\\\\yelp.train.txt.atepc', '119.Yelp\\\\yelp.train.txt.atepc', '101.Updated\\\\Updated.train.csv.atepc', '115.restaurant15\\\\restaurant_train.raw.atepc', 'integrated_datasets\\\\atepc_datasets\\\\119.Yelp\\\\yelp.train.txt.atepc', '116.restaurant16\\\\restaurant_train.raw.atepc'], 'test': ['integrated_datasets\\\\atepc_datasets\\\\119.Yelp\\\\yelp.test.txt.atepc', '115.restaurant15\\\\restaurant_test.raw.atepc', '116.restaurant16\\\\restaurant_test.raw.atepc', 'New folder\\\\119.Yelp\\\\yelp.test.txt.atepc', '119.Yelp\\\\yelp.test.txt.atepc', '101.Updated\\\\Updated.test.csv.atepc'], 'valid': []}\t-->\tCalling Count:6\n",
            "2023-04-08 18:31:50,610 INFO: dataset_name:my_dataset\t-->\tCalling Count:3\n",
            "2023-04-08 18:31:50,611 INFO: device:cuda:0\t-->\tCalling Count:4\n",
            "2023-04-08 18:31:50,611 INFO: device_name:NVIDIA GeForce RTX 3070 Ti Laptop GPU\t-->\tCalling Count:1\n",
            "2023-04-08 18:31:50,611 INFO: dropout:0.5\t-->\tCalling Count:1\n",
            "2023-04-08 18:31:50,612 INFO: dynamic_truncate:True\t-->\tCalling Count:14712\n",
            "2023-04-08 18:31:50,612 INFO: embed_dim:1024\t-->\tCalling Count:0\n",
            "2023-04-08 18:31:50,613 INFO: evaluate_begin:0\t-->\tCalling Count:0\n",
            "2023-04-08 18:31:50,613 INFO: from_checkpoint:None\t-->\tCalling Count:0\n",
            "2023-04-08 18:31:50,614 INFO: gradient_accumulation_steps:1\t-->\tCalling Count:3\n",
            "2023-04-08 18:31:50,614 INFO: hidden_dim:1024\t-->\tCalling Count:6\n",
            "2023-04-08 18:31:50,614 INFO: index_to_IOB_label:{1: 'B-ASP', 2: 'I-ASP', 3: 'O', 4: '[CLS]', 5: '[SEP]'}\t-->\tCalling Count:0\n",
            "2023-04-08 18:31:50,615 INFO: index_to_label:{0: 'Negative', 1: 'Neutral', 2: 'Positive'}\t-->\tCalling Count:2\n",
            "2023-04-08 18:31:50,615 INFO: inference_model:None\t-->\tCalling Count:0\n",
            "2023-04-08 18:31:50,615 INFO: initializer:xavier_uniform_\t-->\tCalling Count:0\n",
            "2023-04-08 18:31:50,616 INFO: l2reg:1e-05\t-->\tCalling Count:2\n",
            "2023-04-08 18:31:50,616 INFO: label_list:['B-ASP', 'I-ASP', 'O', '[CLS]', '[SEP]']\t-->\tCalling Count:1\n",
            "2023-04-08 18:31:50,617 INFO: label_to_index:{'Negative': 0, 'Neutral': 1, 'Positive': 2}\t-->\tCalling Count:0\n",
            "2023-04-08 18:31:50,617 INFO: lcf:cdw\t-->\tCalling Count:0\n",
            "2023-04-08 18:31:50,617 INFO: learning_rate:2e-05\t-->\tCalling Count:1\n",
            "2023-04-08 18:31:50,618 INFO: load_aug:False\t-->\tCalling Count:1\n",
            "2023-04-08 18:31:50,619 INFO: log_step:-1\t-->\tCalling Count:0\n",
            "2023-04-08 18:31:50,619 INFO: logger:<Logger fast_lcf_atepc (INFO)>\t-->\tCalling Count:14\n",
            "2023-04-08 18:31:50,620 INFO: max_seq_len:80\t-->\tCalling Count:51494\n",
            "2023-04-08 18:31:50,620 INFO: model:<class 'pyabsa.tasks.AspectTermExtraction.models.__lcf__.fast_lcf_atepc.FAST_LCF_ATEPC'>\t-->\tCalling Count:5\n",
            "2023-04-08 18:31:50,620 INFO: model_name:fast_lcf_atepc\t-->\tCalling Count:7358\n",
            "2023-04-08 18:31:50,622 INFO: model_path_to_save:checkpoints\t-->\tCalling Count:2\n",
            "2023-04-08 18:31:50,622 INFO: notice:This is an training example for aspect term extraction\t-->\tCalling Count:0\n",
            "2023-04-08 18:31:50,622 INFO: num_epoch:10\t-->\tCalling Count:1\n",
            "2023-04-08 18:31:50,623 INFO: num_labels:6\t-->\tCalling Count:2\n",
            "2023-04-08 18:31:50,624 INFO: optimizer:adamw\t-->\tCalling Count:2\n",
            "2023-04-08 18:31:50,624 INFO: output_dim:3\t-->\tCalling Count:1\n",
            "2023-04-08 18:31:50,624 INFO: overwrite_cache:False\t-->\tCalling Count:0\n",
            "2023-04-08 18:31:50,625 INFO: path_to_save:None\t-->\tCalling Count:1\n",
            "2023-04-08 18:31:50,625 INFO: patience:2\t-->\tCalling Count:0\n",
            "2023-04-08 18:31:50,626 INFO: pretrained_bert:bert-large-uncased\t-->\tCalling Count:5\n",
            "2023-04-08 18:31:50,626 INFO: save_mode:1\t-->\tCalling Count:0\n",
            "2023-04-08 18:31:50,627 INFO: seed:1\t-->\tCalling Count:6\n",
            "2023-04-08 18:31:50,627 INFO: sep_indices:102\t-->\tCalling Count:0\n",
            "2023-04-08 18:31:50,627 INFO: show_metric:False\t-->\tCalling Count:0\n",
            "2023-04-08 18:31:50,628 INFO: spacy_model:en_core_web_sm\t-->\tCalling Count:3\n",
            "2023-04-08 18:31:50,628 INFO: srd_alignment:True\t-->\tCalling Count:0\n",
            "2023-04-08 18:31:50,629 INFO: task_code:ATEPC\t-->\tCalling Count:1\n",
            "2023-04-08 18:31:50,629 INFO: task_name:Aspect Term Extraction and Polarity Classification\t-->\tCalling Count:0\n",
            "2023-04-08 18:31:50,630 INFO: use_amp:False\t-->\tCalling Count:1\n",
            "2023-04-08 18:31:50,630 INFO: use_bert_spc:True\t-->\tCalling Count:0\n",
            "2023-04-08 18:31:50,631 INFO: use_syntax_based_SRD:False\t-->\tCalling Count:7356\n",
            "2023-04-08 18:31:50,631 INFO: verbose:False\t-->\tCalling Count:0\n",
            "2023-04-08 18:31:50,631 INFO: warmup_step:-1\t-->\tCalling Count:0\n",
            "2023-04-08 18:31:50,632 INFO: window:lr\t-->\tCalling Count:0\n",
            "2023-04-08 18:31:50,635 INFO: cuda memory allocated:1391793152\n",
            "2023-04-08 18:31:50,636 INFO: ABSADatasetsVersion:None\t-->\tCalling Count:0\n",
            "2023-04-08 18:31:50,636 INFO: IOB_label_to_index:{'B-ASP': 1, 'I-ASP': 2, 'O': 3, '[CLS]': 4, '[SEP]': 5}\t-->\tCalling Count:1\n",
            "2023-04-08 18:31:50,637 INFO: MV:<metric_visualizer.metric_visualizer.MetricVisualizer object at 0x000001FB1F4965E0>\t-->\tCalling Count:0\n",
            "2023-04-08 18:31:50,637 INFO: PyABSAVersion:2.1.5\t-->\tCalling Count:1\n",
            "2023-04-08 18:31:50,637 INFO: SRD:3\t-->\tCalling Count:14712\n",
            "2023-04-08 18:31:50,638 INFO: TorchVersion:1.13.1+cuda11.7\t-->\tCalling Count:1\n",
            "2023-04-08 18:31:50,638 INFO: TransformersVersion:4.26.1\t-->\tCalling Count:1\n",
            "2023-04-08 18:31:50,639 INFO: auto_device:True\t-->\tCalling Count:4\n",
            "2023-04-08 18:31:50,639 INFO: batch_size:8\t-->\tCalling Count:4\n",
            "2023-04-08 18:31:50,640 INFO: cache_dataset:True\t-->\tCalling Count:1\n",
            "2023-04-08 18:31:50,640 INFO: checkpoint_save_mode:1\t-->\tCalling Count:4\n",
            "2023-04-08 18:31:50,641 INFO: cross_validate_fold:-1\t-->\tCalling Count:1\n",
            "2023-04-08 18:31:50,641 INFO: dataset_file:{'train': ['New folder\\\\119.Yelp\\\\yelp.train.txt.atepc', '119.Yelp\\\\yelp.train.txt.atepc', '101.Updated\\\\Updated.train.csv.atepc', '115.restaurant15\\\\restaurant_train.raw.atepc', 'integrated_datasets\\\\atepc_datasets\\\\119.Yelp\\\\yelp.train.txt.atepc', '116.restaurant16\\\\restaurant_train.raw.atepc'], 'test': ['integrated_datasets\\\\atepc_datasets\\\\119.Yelp\\\\yelp.test.txt.atepc', '115.restaurant15\\\\restaurant_test.raw.atepc', '116.restaurant16\\\\restaurant_test.raw.atepc', 'New folder\\\\119.Yelp\\\\yelp.test.txt.atepc', '119.Yelp\\\\yelp.test.txt.atepc', '101.Updated\\\\Updated.test.csv.atepc'], 'valid': []}\t-->\tCalling Count:6\n",
            "2023-04-08 18:31:50,642 INFO: dataset_name:my_dataset\t-->\tCalling Count:3\n",
            "2023-04-08 18:31:50,642 INFO: device:cuda:0\t-->\tCalling Count:8\n",
            "2023-04-08 18:31:50,643 INFO: device_name:NVIDIA GeForce RTX 3070 Ti Laptop GPU\t-->\tCalling Count:1\n",
            "2023-04-08 18:31:50,643 INFO: dropout:0.5\t-->\tCalling Count:1\n",
            "2023-04-08 18:31:50,644 INFO: dynamic_truncate:True\t-->\tCalling Count:14712\n",
            "2023-04-08 18:31:50,644 INFO: embed_dim:1024\t-->\tCalling Count:0\n",
            "2023-04-08 18:31:50,644 INFO: evaluate_begin:0\t-->\tCalling Count:0\n",
            "2023-04-08 18:31:50,645 INFO: from_checkpoint:None\t-->\tCalling Count:0\n",
            "2023-04-08 18:31:50,645 INFO: gradient_accumulation_steps:1\t-->\tCalling Count:3\n",
            "2023-04-08 18:31:50,646 INFO: hidden_dim:1024\t-->\tCalling Count:6\n",
            "2023-04-08 18:31:50,646 INFO: index_to_IOB_label:{1: 'B-ASP', 2: 'I-ASP', 3: 'O', 4: '[CLS]', 5: '[SEP]'}\t-->\tCalling Count:0\n",
            "2023-04-08 18:31:50,647 INFO: index_to_label:{0: 'Negative', 1: 'Neutral', 2: 'Positive'}\t-->\tCalling Count:2\n",
            "2023-04-08 18:31:50,647 INFO: inference_model:None\t-->\tCalling Count:0\n",
            "2023-04-08 18:31:50,648 INFO: initializer:xavier_uniform_\t-->\tCalling Count:0\n",
            "2023-04-08 18:31:50,648 INFO: l2reg:1e-05\t-->\tCalling Count:2\n",
            "2023-04-08 18:31:50,649 INFO: label_list:['B-ASP', 'I-ASP', 'O', '[CLS]', '[SEP]']\t-->\tCalling Count:1\n",
            "2023-04-08 18:31:50,649 INFO: label_to_index:{'Negative': 0, 'Neutral': 1, 'Positive': 2}\t-->\tCalling Count:0\n",
            "2023-04-08 18:31:50,649 INFO: lcf:cdw\t-->\tCalling Count:0\n",
            "2023-04-08 18:31:50,650 INFO: learning_rate:2e-05\t-->\tCalling Count:1\n",
            "2023-04-08 18:31:50,650 INFO: load_aug:False\t-->\tCalling Count:1\n",
            "2023-04-08 18:31:50,651 INFO: log_step:-1\t-->\tCalling Count:0\n",
            "2023-04-08 18:31:50,651 INFO: logger:<Logger fast_lcf_atepc (INFO)>\t-->\tCalling Count:14\n",
            "2023-04-08 18:31:50,651 INFO: max_seq_len:80\t-->\tCalling Count:51494\n",
            "2023-04-08 18:31:50,652 INFO: model:<class 'pyabsa.tasks.AspectTermExtraction.models.__lcf__.fast_lcf_atepc.FAST_LCF_ATEPC'>\t-->\tCalling Count:5\n",
            "2023-04-08 18:31:50,652 INFO: model_name:fast_lcf_atepc\t-->\tCalling Count:7358\n",
            "2023-04-08 18:31:50,653 INFO: model_path_to_save:checkpoints\t-->\tCalling Count:2\n",
            "2023-04-08 18:31:50,653 INFO: notice:This is an training example for aspect term extraction\t-->\tCalling Count:0\n",
            "2023-04-08 18:31:50,654 INFO: num_epoch:10\t-->\tCalling Count:1\n",
            "2023-04-08 18:31:50,654 INFO: num_labels:6\t-->\tCalling Count:2\n",
            "2023-04-08 18:31:50,654 INFO: optimizer:adamw\t-->\tCalling Count:2\n",
            "2023-04-08 18:31:50,655 INFO: output_dim:3\t-->\tCalling Count:1\n",
            "2023-04-08 18:31:50,655 INFO: overwrite_cache:False\t-->\tCalling Count:0\n",
            "2023-04-08 18:31:50,656 INFO: path_to_save:None\t-->\tCalling Count:1\n",
            "2023-04-08 18:31:50,656 INFO: patience:2\t-->\tCalling Count:0\n",
            "2023-04-08 18:31:50,657 INFO: pretrained_bert:bert-large-uncased\t-->\tCalling Count:5\n",
            "2023-04-08 18:31:50,657 INFO: save_mode:1\t-->\tCalling Count:0\n",
            "2023-04-08 18:31:50,658 INFO: seed:1\t-->\tCalling Count:6\n",
            "2023-04-08 18:31:50,658 INFO: sep_indices:102\t-->\tCalling Count:0\n",
            "2023-04-08 18:31:50,658 INFO: show_metric:False\t-->\tCalling Count:0\n",
            "2023-04-08 18:31:50,659 INFO: spacy_model:en_core_web_sm\t-->\tCalling Count:3\n",
            "2023-04-08 18:31:50,659 INFO: srd_alignment:True\t-->\tCalling Count:0\n",
            "2023-04-08 18:31:50,660 INFO: task_code:ATEPC\t-->\tCalling Count:1\n",
            "2023-04-08 18:31:50,660 INFO: task_name:Aspect Term Extraction and Polarity Classification\t-->\tCalling Count:0\n",
            "2023-04-08 18:31:50,661 INFO: tokenizer:BertTokenizerFast(name_or_path='bert-large-uncased', vocab_size=30522, model_max_length=512, is_fast=True, padding_side='right', truncation_side='right', special_tokens={'bos_token': '[CLS]', 'eos_token': '[SEP]', 'unk_token': '[UNK]', 'sep_token': '[SEP]', 'pad_token': '[PAD]', 'cls_token': '[CLS]', 'mask_token': '[MASK]'})\t-->\tCalling Count:0\n",
            "2023-04-08 18:31:50,661 INFO: use_amp:False\t-->\tCalling Count:1\n",
            "2023-04-08 18:31:50,662 INFO: use_bert_spc:True\t-->\tCalling Count:0\n",
            "2023-04-08 18:31:50,662 INFO: use_syntax_based_SRD:False\t-->\tCalling Count:7356\n",
            "2023-04-08 18:31:50,663 INFO: verbose:False\t-->\tCalling Count:1\n",
            "2023-04-08 18:31:50,663 INFO: warmup_step:-1\t-->\tCalling Count:0\n",
            "2023-04-08 18:31:50,664 INFO: window:lr\t-->\tCalling Count:0\n",
            "2023-04-08 18:31:50,664 INFO: ***** Running training for Aspect Term Extraction and Polarity Classification *****\n",
            "2023-04-08 18:31:50,665 INFO:   Num examples = 5467\n",
            "2023-04-08 18:31:50,666 INFO:   Batch size = 8\n",
            "2023-04-08 18:31:50,666 INFO:   Num steps = 6830\n"
          ]
        },
        {
          "name": "stderr",
          "output_type": "stream",
          "text": [
            "Epoch:  0| loss_apc:0.7579 | loss_ate:0.0821 |: 100%|██████████| 684/684 [04:56<00:00,  2.30it/s,  APC_ACC: 81.26(max:81.26) | APC_F1: 54.26(max:54.26) | ATE_F1: 79.00(max:79.00)]\n",
            "Epoch:  1| loss_apc:0.4207 | loss_ate:0.0070 |: 100%|██████████| 684/684 [04:55<00:00,  2.31it/s,  APC_ACC: 81.63(max:82.48) | APC_F1: 61.91(max:61.91) | ATE_F1: 81.35(max:81.35)]\n",
            "Epoch:  2| loss_apc:0.0807 | loss_ate:0.0026 |: 100%|██████████| 684/684 [04:59<00:00,  2.29it/s,  APC_ACC: 83.54(max:83.54) | APC_F1: 67.40(max:67.40) | ATE_F1: 81.62(max:81.62)]\n",
            "Epoch:  3| loss_apc:0.4314 | loss_ate:0.0131 |: 100%|██████████| 684/684 [05:01<00:00,  2.27it/s,  APC_ACC: 83.80(max:83.80) | APC_F1: 66.26(max:67.40) | ATE_F1: 82.67(max:83.22)]\n",
            "Epoch:  4| loss_apc:0.0095 | loss_ate:0.0044 |: 100%|██████████| 684/684 [04:57<00:00,  2.30it/s,  APC_ACC: 80.20(max:83.80) | APC_F1: 64.74(max:67.40) | ATE_F1: 82.54(max:83.22)]\n"
          ]
        },
        {
          "name": "stdout",
          "output_type": "stream",
          "text": [
            "2023-04-08 18:57:01,908 INFO: \n",
            "--------------------------------------------------------------- Raw Metric Records ---------------------------------------------------------------\n",
            "╒════════════════════════════════╤══════════════════════════════════════════════╤══════════╤═══════════╤══════════╤═══════╤═══════╤═══════╤═══════╕\n",
            "│ Metric                         │ Trial                                        │ Values   │  Average  │  Median  │  Std  │  IQR  │  Min  │  Max  │\n",
            "╞════════════════════════════════╪══════════════════════════════════════════════╪══════════╪═══════════╪══════════╪═══════╪═══════╪═══════╪═══════╡\n",
            "│ Max-APC-Test-Acc w/o Valid Set │ fast_lcf_atepc-my_dataset-bert-large-uncased │ [83.8]   │   83.8    │   83.8   │   0   │   0   │ 83.8  │ 83.8  │\n",
            "├────────────────────────────────┼──────────────────────────────────────────────┼──────────┼───────────┼──────────┼───────┼───────┼───────┼───────┤\n",
            "│ Max-APC-Test-F1 w/o Valid Set  │ fast_lcf_atepc-my_dataset-bert-large-uncased │ [67.4]   │   67.4    │   67.4   │   0   │   0   │ 67.4  │ 67.4  │\n",
            "├────────────────────────────────┼──────────────────────────────────────────────┼──────────┼───────────┼──────────┼───────┼───────┼───────┼───────┤\n",
            "│ Max-ATE-Test-F1 w/o Valid Set  │ fast_lcf_atepc-my_dataset-bert-large-uncased │ [83.22]  │   83.22   │  83.22   │   0   │   0   │ 83.22 │ 83.22 │\n",
            "╘════════════════════════════════╧══════════════════════════════════════════════╧══════════╧═══════════╧══════════╧═══════╧═══════╧═══════╧═══════╛\n",
            "------------------------------------------------- https://github.com/yangheng95/metric_visualizer -------------------------------------------------\n",
            "\n",
            "2023-04-08 18:57:01,930 INFO: ABSADatasetsVersion:None\t-->\tCalling Count:0\n",
            "2023-04-08 18:57:01,930 INFO: IOB_label_to_index:{'B-ASP': 1, 'I-ASP': 2, 'O': 3, '[CLS]': 4, '[SEP]': 5}\t-->\tCalling Count:1\n",
            "2023-04-08 18:57:01,931 INFO: MV:<metric_visualizer.metric_visualizer.MetricVisualizer object at 0x000001FB1F4965E0>\t-->\tCalling Count:4\n",
            "2023-04-08 18:57:01,931 INFO: PyABSAVersion:2.1.5\t-->\tCalling Count:1\n",
            "2023-04-08 18:57:01,932 INFO: SRD:3\t-->\tCalling Count:14712\n",
            "2023-04-08 18:57:01,932 INFO: TorchVersion:1.13.1+cuda11.7\t-->\tCalling Count:1\n",
            "2023-04-08 18:57:01,933 INFO: TransformersVersion:4.26.1\t-->\tCalling Count:1\n",
            "2023-04-08 18:57:01,934 INFO: auto_device:True\t-->\tCalling Count:3424\n",
            "2023-04-08 18:57:01,934 INFO: batch_size:8\t-->\tCalling Count:6\n",
            "2023-04-08 18:57:01,935 INFO: cache_dataset:True\t-->\tCalling Count:1\n",
            "2023-04-08 18:57:01,935 INFO: checkpoint_save_mode:1\t-->\tCalling Count:4\n",
            "2023-04-08 18:57:01,936 INFO: cross_validate_fold:-1\t-->\tCalling Count:2\n",
            "2023-04-08 18:57:01,936 INFO: dataset_file:{'train': ['New folder\\\\119.Yelp\\\\yelp.train.txt.atepc', '119.Yelp\\\\yelp.train.txt.atepc', '101.Updated\\\\Updated.train.csv.atepc', '115.restaurant15\\\\restaurant_train.raw.atepc', 'integrated_datasets\\\\atepc_datasets\\\\119.Yelp\\\\yelp.train.txt.atepc', '116.restaurant16\\\\restaurant_train.raw.atepc'], 'test': ['integrated_datasets\\\\atepc_datasets\\\\119.Yelp\\\\yelp.test.txt.atepc', '115.restaurant15\\\\restaurant_test.raw.atepc', '116.restaurant16\\\\restaurant_test.raw.atepc', 'New folder\\\\119.Yelp\\\\yelp.test.txt.atepc', '119.Yelp\\\\yelp.test.txt.atepc', '101.Updated\\\\Updated.test.csv.atepc'], 'valid': []}\t-->\tCalling Count:6\n",
            "2023-04-08 18:57:01,937 INFO: dataset_name:my_dataset\t-->\tCalling Count:15\n",
            "2023-04-08 18:57:01,937 INFO: device:cuda:0\t-->\tCalling Count:54259\n",
            "2023-04-08 18:57:01,939 INFO: device_name:NVIDIA GeForce RTX 3070 Ti Laptop GPU\t-->\tCalling Count:1\n",
            "2023-04-08 18:57:01,939 INFO: dropout:0.5\t-->\tCalling Count:1\n",
            "2023-04-08 18:57:01,940 INFO: dynamic_truncate:True\t-->\tCalling Count:14712\n",
            "2023-04-08 18:57:01,940 INFO: embed_dim:1024\t-->\tCalling Count:0\n",
            "2023-04-08 18:57:01,941 INFO: evaluate_begin:0\t-->\tCalling Count:11\n",
            "2023-04-08 18:57:01,942 INFO: from_checkpoint:None\t-->\tCalling Count:2\n",
            "2023-04-08 18:57:01,942 INFO: gradient_accumulation_steps:1\t-->\tCalling Count:3\n",
            "2023-04-08 18:57:01,942 INFO: hidden_dim:1024\t-->\tCalling Count:6\n",
            "2023-04-08 18:57:01,943 INFO: index_to_IOB_label:{1: 'B-ASP', 2: 'I-ASP', 3: 'O', 4: '[CLS]', 5: '[SEP]'}\t-->\tCalling Count:0\n",
            "2023-04-08 18:57:01,944 INFO: index_to_label:{0: 'Negative', 1: 'Neutral', 2: 'Positive'}\t-->\tCalling Count:2\n",
            "2023-04-08 18:57:01,945 INFO: inference_model:None\t-->\tCalling Count:0\n",
            "2023-04-08 18:57:01,945 INFO: initializer:xavier_uniform_\t-->\tCalling Count:0\n",
            "2023-04-08 18:57:01,946 INFO: l2reg:1e-05\t-->\tCalling Count:2\n",
            "2023-04-08 18:57:01,946 INFO: label_list:['B-ASP', 'I-ASP', 'O', '[CLS]', '[SEP]']\t-->\tCalling Count:12\n",
            "2023-04-08 18:57:01,947 INFO: label_to_index:{'Negative': 0, 'Neutral': 1, 'Positive': 2}\t-->\tCalling Count:0\n",
            "2023-04-08 18:57:01,948 INFO: lcf:cdw\t-->\tCalling Count:12062\n",
            "2023-04-08 18:57:01,948 INFO: learning_rate:2e-05\t-->\tCalling Count:1\n",
            "2023-04-08 18:57:01,949 INFO: load_aug:False\t-->\tCalling Count:1\n",
            "2023-04-08 18:57:01,949 INFO: log_step:684\t-->\tCalling Count:3422\n",
            "2023-04-08 18:57:01,950 INFO: logger:<Logger fast_lcf_atepc (INFO)>\t-->\tCalling Count:15\n",
            "2023-04-08 18:57:01,950 INFO: loss:0.38670050371438264\t-->\tCalling Count:0\n",
            "2023-04-08 18:57:01,951 INFO: max_seq_len:80\t-->\tCalling Count:63548\n",
            "2023-04-08 18:57:01,951 INFO: max_test_metrics:{'max_apc_test_acc': 83.8, 'max_apc_test_f1': 67.4, 'max_ate_test_f1': 83.22}\t-->\tCalling Count:93\n",
            "2023-04-08 18:57:01,951 INFO: metrics_of_this_checkpoint:{'apc_acc': 80.2, 'apc_f1': 64.74, 'ate_f1': 82.54}\t-->\tCalling Count:30\n",
            "2023-04-08 18:57:01,952 INFO: model:<class 'pyabsa.tasks.AspectTermExtraction.models.__lcf__.fast_lcf_atepc.FAST_LCF_ATEPC'>\t-->\tCalling Count:5\n",
            "2023-04-08 18:57:01,952 INFO: model_name:fast_lcf_atepc\t-->\tCalling Count:7402\n",
            "2023-04-08 18:57:01,952 INFO: model_path_to_save:checkpoints\t-->\tCalling Count:19\n",
            "2023-04-08 18:57:01,953 INFO: notice:This is an training example for aspect term extraction\t-->\tCalling Count:0\n",
            "2023-04-08 18:57:01,953 INFO: num_epoch:10\t-->\tCalling Count:2\n",
            "2023-04-08 18:57:01,954 INFO: num_labels:6\t-->\tCalling Count:2\n",
            "2023-04-08 18:57:01,954 INFO: optimizer:adamw\t-->\tCalling Count:2\n",
            "2023-04-08 18:57:01,956 INFO: output_dim:3\t-->\tCalling Count:12\n",
            "2023-04-08 18:57:01,956 INFO: overwrite_cache:False\t-->\tCalling Count:0\n",
            "2023-04-08 18:57:01,957 INFO: path_to_save:None\t-->\tCalling Count:1\n",
            "2023-04-08 18:57:01,957 INFO: patience:2\t-->\tCalling Count:9\n",
            "2023-04-08 18:57:01,957 INFO: pretrained_bert:bert-large-uncased\t-->\tCalling Count:8\n",
            "2023-04-08 18:57:01,957 INFO: save_mode:1\t-->\tCalling Count:16\n",
            "2023-04-08 18:57:01,958 INFO: seed:1\t-->\tCalling Count:6\n",
            "2023-04-08 18:57:01,959 INFO: sep_indices:102\t-->\tCalling Count:68893\n",
            "2023-04-08 18:57:01,959 INFO: show_metric:False\t-->\tCalling Count:0\n",
            "2023-04-08 18:57:01,960 INFO: spacy_model:en_core_web_sm\t-->\tCalling Count:3\n",
            "2023-04-08 18:57:01,960 INFO: srd_alignment:True\t-->\tCalling Count:0\n",
            "2023-04-08 18:57:01,961 INFO: task_code:ATEPC\t-->\tCalling Count:1\n",
            "2023-04-08 18:57:01,961 INFO: task_name:Aspect Term Extraction and Polarity Classification\t-->\tCalling Count:1\n",
            "2023-04-08 18:57:01,962 INFO: tokenizer:BertTokenizerFast(name_or_path='bert-large-uncased', vocab_size=30522, model_max_length=512, is_fast=True, padding_side='right', truncation_side='right', special_tokens={'bos_token': '[CLS]', 'eos_token': '[SEP]', 'unk_token': '[UNK]', 'sep_token': '[SEP]', 'pad_token': '[PAD]', 'cls_token': '[CLS]', 'mask_token': '[MASK]'})\t-->\tCalling Count:0\n",
            "2023-04-08 18:57:01,963 INFO: use_amp:False\t-->\tCalling Count:6841\n",
            "2023-04-08 18:57:01,963 INFO: use_bert_spc:True\t-->\tCalling Count:8634\n",
            "2023-04-08 18:57:01,964 INFO: use_syntax_based_SRD:False\t-->\tCalling Count:7356\n",
            "2023-04-08 18:57:01,964 INFO: verbose:False\t-->\tCalling Count:1\n",
            "2023-04-08 18:57:01,965 INFO: warmup_step:-1\t-->\tCalling Count:3422\n",
            "2023-04-08 18:57:01,965 INFO: window:lr\t-->\tCalling Count:0\n"
          ]
        },
        {
          "name": "stderr",
          "output_type": "stream",
          "text": [
            "Using bos_token, but it is not set yet.\n",
            "Using eos_token, but it is not set yet.\n"
          ]
        },
        {
          "name": "stdout",
          "output_type": "stream",
          "text": [
            "[2023-04-08 18:57:05] (2.1.5) warning! ignore detected error line(s) in input file:  O -100\n",
            "\n"
          ]
        },
        {
          "name": "stderr",
          "output_type": "stream",
          "text": [
            "convert examples to features:   1%|          | 53/5470 [00:00<00:21, 255.05it/s]Token indices sequence length is longer than the specified maximum sequence length for this model (1034 > 512). Running this sequence through the model will result in indexing errors\n",
            "convert examples to features:  49%|████▉     | 2687/5470 [00:07<00:02, 1260.92it/s]"
          ]
        },
        {
          "name": "stdout",
          "output_type": "stream",
          "text": [
            "2023-04-08 18:57:14,090 WARNING: AspectTooLongWarning -> <aspect: egg noodles in the beef broth with shrimp dumplings and slices of bbq roast pork> is too long, <text: i fell in love with the egg noodles in the beef broth with shrimp dumplings and slices of bbq roast pork .>, <polarity: Positive>\n"
          ]
        },
        {
          "name": "stderr",
          "output_type": "stream",
          "text": [
            "convert examples to features:  86%|████████▌ | 4715/5470 [00:12<00:00, 1179.31it/s]"
          ]
        },
        {
          "name": "stdout",
          "output_type": "stream",
          "text": [
            "2023-04-08 18:57:18,576 WARNING: AspectTooLongWarning -> <aspect: egg noodles in the beef broth with shrimp dumplings and slices of bbq roast pork> is too long, <text: i fell in love with the egg noodles in the beef broth with shrimp dumplings and slices of bbq roast pork .>, <polarity: Positive>\n"
          ]
        },
        {
          "name": "stderr",
          "output_type": "stream",
          "text": [
            "convert examples to features:  94%|█████████▍| 5132/5470 [00:12<00:00, 1265.90it/s]"
          ]
        },
        {
          "name": "stdout",
          "output_type": "stream",
          "text": [
            "2023-04-08 18:57:18,810 WARNING: AspectTooLongWarning -> <aspect: cocktail with citrus vodka and lemon and lime juice and mint leaves> is too long, <text: the have a great cocktail with citrus vodka and lemon and lime juice and mint leaves that is to die for !>, <polarity: Positive>\n"
          ]
        },
        {
          "name": "stderr",
          "output_type": "stream",
          "text": [
            "convert examples to features: 100%|██████████| 5470/5470 [00:12<00:00, 429.55it/s] "
          ]
        },
        {
          "name": "stdout",
          "output_type": "stream",
          "text": [
            "2023-04-08 18:57:19,132 INFO: Dataset Label Details: {'Negative': 1451, 'Neutral': 278, 'Positive': 3738, 'Sum': 5467}\n"
          ]
        },
        {
          "name": "stderr",
          "output_type": "stream",
          "text": [
            "\n"
          ]
        },
        {
          "name": "stdout",
          "output_type": "stream",
          "text": [
            "[2023-04-08 18:57:19] (2.1.5) warning! ignore detected error line(s) in input file:  O -100\n",
            "\n"
          ]
        },
        {
          "name": "stderr",
          "output_type": "stream",
          "text": [
            "convert examples to features:  22%|██▏       | 410/1891 [00:01<00:02, 640.91it/s]"
          ]
        },
        {
          "name": "stdout",
          "output_type": "stream",
          "text": [
            "2023-04-08 18:57:20,890 WARNING: AspectTooLongWarning -> <aspect: cocktail with citrus vodka and lemon and lime juice and mint leaves> is too long, <text: the have a great cocktail with citrus vodka and lemon and lime juice and mint leaves that is to die for !>, <polarity: Positive>\n"
          ]
        },
        {
          "name": "stderr",
          "output_type": "stream",
          "text": [
            "convert examples to features:  60%|█████▉    | 1132/1891 [00:01<00:00, 1049.36it/s]"
          ]
        },
        {
          "name": "stdout",
          "output_type": "stream",
          "text": [
            "2023-04-08 18:57:21,502 WARNING: AspectTooLongWarning -> <aspect: appetizer of oysters , lobster , crab ( small size )> is too long, <text: the appetizer of oysters , lobster , crab ( small size ) made a perfect entre for my wife .>, <polarity: Positive>\n"
          ]
        },
        {
          "name": "stderr",
          "output_type": "stream",
          "text": [
            "convert examples to features: 100%|██████████| 1891/1891 [00:03<00:00, 496.74it/s] "
          ]
        },
        {
          "name": "stdout",
          "output_type": "stream",
          "text": [
            "2023-04-08 18:57:23,593 INFO: Dataset Label Details: {'Negative': 449, 'Neutral': 112, 'Positive': 1328, 'Sum': 1889}\n"
          ]
        },
        {
          "name": "stderr",
          "output_type": "stream",
          "text": [
            "\n",
            "Some weights of the model checkpoint at bert-large-uncased were not used when initializing BertModel: ['cls.predictions.transform.dense.weight', 'cls.seq_relationship.weight', 'cls.predictions.transform.LayerNorm.bias', 'cls.predictions.decoder.weight', 'cls.seq_relationship.bias', 'cls.predictions.transform.dense.bias', 'cls.predictions.transform.LayerNorm.weight', 'cls.predictions.bias']\n",
            "- This IS expected if you are initializing BertModel from the checkpoint of a model trained on another task or with another architecture (e.g. initializing a BertForSequenceClassification model from a BertForPreTraining model).\n",
            "- This IS NOT expected if you are initializing BertModel from the checkpoint of a model that you expect to be exactly identical (initializing a BertForSequenceClassification model from a BertForSequenceClassification model).\n"
          ]
        },
        {
          "name": "stdout",
          "output_type": "stream",
          "text": [
            "2023-04-08 18:57:26,498 INFO: Save cache dataset to fast_lcf_atepc.my_dataset.dataset.a449bdc5da73be75632376ba31e00a3d1fe93eee93fc9d7971e96d41ee61a787.cache\n",
            "2023-04-08 18:57:27,238 INFO: cuda memory allocated:1391793152\n",
            "2023-04-08 18:57:27,238 INFO: ABSADatasetsVersion:None\t-->\tCalling Count:0\n",
            "2023-04-08 18:57:27,239 INFO: IOB_label_to_index:{'B-ASP': 1, 'I-ASP': 2, 'O': 3, '[CLS]': 4, '[SEP]': 5}\t-->\tCalling Count:2\n",
            "2023-04-08 18:57:27,239 INFO: MV:<metric_visualizer.metric_visualizer.MetricVisualizer object at 0x000001FB1F4965E0>\t-->\tCalling Count:4\n",
            "2023-04-08 18:57:27,240 INFO: PyABSAVersion:2.1.5\t-->\tCalling Count:1\n",
            "2023-04-08 18:57:27,240 INFO: SRD:3\t-->\tCalling Count:29424\n",
            "2023-04-08 18:57:27,241 INFO: TorchVersion:1.13.1+cuda11.7\t-->\tCalling Count:1\n",
            "2023-04-08 18:57:27,241 INFO: TransformersVersion:4.26.1\t-->\tCalling Count:1\n",
            "2023-04-08 18:57:27,241 INFO: auto_device:True\t-->\tCalling Count:3425\n",
            "2023-04-08 18:57:27,242 INFO: batch_size:8\t-->\tCalling Count:10\n",
            "2023-04-08 18:57:27,242 INFO: cache_dataset:True\t-->\tCalling Count:2\n",
            "2023-04-08 18:57:27,243 INFO: checkpoint_save_mode:1\t-->\tCalling Count:5\n",
            "2023-04-08 18:57:27,243 INFO: cross_validate_fold:-1\t-->\tCalling Count:2\n",
            "2023-04-08 18:57:27,244 INFO: dataset_file:{'train': ['New folder\\\\119.Yelp\\\\yelp.train.txt.atepc', '119.Yelp\\\\yelp.train.txt.atepc', '101.Updated\\\\Updated.train.csv.atepc', '115.restaurant15\\\\restaurant_train.raw.atepc', 'integrated_datasets\\\\atepc_datasets\\\\119.Yelp\\\\yelp.train.txt.atepc', '116.restaurant16\\\\restaurant_train.raw.atepc'], 'test': ['integrated_datasets\\\\atepc_datasets\\\\119.Yelp\\\\yelp.test.txt.atepc', '115.restaurant15\\\\restaurant_test.raw.atepc', '116.restaurant16\\\\restaurant_test.raw.atepc', 'New folder\\\\119.Yelp\\\\yelp.test.txt.atepc', '119.Yelp\\\\yelp.test.txt.atepc', '101.Updated\\\\Updated.test.csv.atepc'], 'valid': []}\t-->\tCalling Count:10\n",
            "2023-04-08 18:57:27,244 INFO: dataset_name:my_dataset\t-->\tCalling Count:16\n",
            "2023-04-08 18:57:27,245 INFO: device:cuda:0\t-->\tCalling Count:54263\n",
            "2023-04-08 18:57:27,245 INFO: device_name:NVIDIA GeForce RTX 3070 Ti Laptop GPU\t-->\tCalling Count:1\n",
            "2023-04-08 18:57:27,245 INFO: dropout:0.5\t-->\tCalling Count:2\n",
            "2023-04-08 18:57:27,246 INFO: dynamic_truncate:True\t-->\tCalling Count:29424\n",
            "2023-04-08 18:57:27,246 INFO: embed_dim:1024\t-->\tCalling Count:0\n",
            "2023-04-08 18:57:27,247 INFO: evaluate_begin:0\t-->\tCalling Count:11\n",
            "2023-04-08 18:57:27,247 INFO: from_checkpoint:None\t-->\tCalling Count:2\n",
            "2023-04-08 18:57:27,248 INFO: gradient_accumulation_steps:1\t-->\tCalling Count:6\n",
            "2023-04-08 18:57:27,248 INFO: hidden_dim:1024\t-->\tCalling Count:12\n",
            "2023-04-08 18:57:27,249 INFO: index_to_IOB_label:{1: 'B-ASP', 2: 'I-ASP', 3: 'O', 4: '[CLS]', 5: '[SEP]'}\t-->\tCalling Count:0\n",
            "2023-04-08 18:57:27,250 INFO: index_to_label:{0: 'Negative', 1: 'Neutral', 2: 'Positive'}\t-->\tCalling Count:4\n",
            "2023-04-08 18:57:27,250 INFO: inference_model:None\t-->\tCalling Count:0\n",
            "2023-04-08 18:57:27,251 INFO: initializer:xavier_uniform_\t-->\tCalling Count:0\n",
            "2023-04-08 18:57:27,251 INFO: l2reg:1e-05\t-->\tCalling Count:4\n",
            "2023-04-08 18:57:27,253 INFO: label_list:['B-ASP', 'I-ASP', 'O', '[CLS]', '[SEP]']\t-->\tCalling Count:13\n",
            "2023-04-08 18:57:27,254 INFO: label_to_index:{'Negative': 0, 'Neutral': 1, 'Positive': 2}\t-->\tCalling Count:0\n",
            "2023-04-08 18:57:27,255 INFO: lcf:cdw\t-->\tCalling Count:12062\n",
            "2023-04-08 18:57:27,256 INFO: learning_rate:2e-05\t-->\tCalling Count:2\n",
            "2023-04-08 18:57:27,256 INFO: load_aug:False\t-->\tCalling Count:1\n",
            "2023-04-08 18:57:27,257 INFO: log_step:684\t-->\tCalling Count:3422\n",
            "2023-04-08 18:57:27,257 INFO: logger:<Logger fast_lcf_atepc (INFO)>\t-->\tCalling Count:24\n",
            "2023-04-08 18:57:27,258 INFO: loss:0.38670050371438264\t-->\tCalling Count:0\n",
            "2023-04-08 18:57:27,258 INFO: max_seq_len:80\t-->\tCalling Count:115042\n",
            "2023-04-08 18:57:27,259 INFO: max_test_metrics:{'max_apc_test_acc': 83.8, 'max_apc_test_f1': 67.4, 'max_ate_test_f1': 83.22}\t-->\tCalling Count:93\n",
            "2023-04-08 18:57:27,259 INFO: metrics_of_this_checkpoint:{'apc_acc': 80.2, 'apc_f1': 64.74, 'ate_f1': 82.54}\t-->\tCalling Count:30\n",
            "2023-04-08 18:57:27,260 INFO: model:<class 'pyabsa.tasks.AspectTermExtraction.models.__lcf__.fast_lcf_atepc.FAST_LCF_ATEPC'>\t-->\tCalling Count:6\n",
            "2023-04-08 18:57:27,261 INFO: model_name:fast_lcf_atepc\t-->\tCalling Count:14759\n",
            "2023-04-08 18:57:27,261 INFO: model_path_to_save:checkpoints\t-->\tCalling Count:21\n",
            "2023-04-08 18:57:27,262 INFO: notice:This is an training example for aspect term extraction\t-->\tCalling Count:0\n",
            "2023-04-08 18:57:27,262 INFO: num_epoch:10\t-->\tCalling Count:3\n",
            "2023-04-08 18:57:27,263 INFO: num_labels:6\t-->\tCalling Count:4\n",
            "2023-04-08 18:57:27,263 INFO: optimizer:adamw\t-->\tCalling Count:4\n",
            "2023-04-08 18:57:27,264 INFO: output_dim:3\t-->\tCalling Count:13\n",
            "2023-04-08 18:57:27,264 INFO: overwrite_cache:False\t-->\tCalling Count:0\n",
            "2023-04-08 18:57:27,265 INFO: path_to_save:None\t-->\tCalling Count:1\n",
            "2023-04-08 18:57:27,265 INFO: patience:2\t-->\tCalling Count:9\n",
            "2023-04-08 18:57:27,266 INFO: pretrained_bert:bert-large-uncased\t-->\tCalling Count:11\n",
            "2023-04-08 18:57:27,266 INFO: save_mode:1\t-->\tCalling Count:17\n",
            "2023-04-08 18:57:27,267 INFO: seed:2\t-->\tCalling Count:10\n",
            "2023-04-08 18:57:27,267 INFO: sep_indices:102\t-->\tCalling Count:68893\n",
            "2023-04-08 18:57:27,268 INFO: show_metric:False\t-->\tCalling Count:0\n",
            "2023-04-08 18:57:27,268 INFO: spacy_model:en_core_web_sm\t-->\tCalling Count:7\n",
            "2023-04-08 18:57:27,269 INFO: srd_alignment:True\t-->\tCalling Count:0\n",
            "2023-04-08 18:57:27,269 INFO: task_code:ATEPC\t-->\tCalling Count:1\n",
            "2023-04-08 18:57:27,270 INFO: task_name:Aspect Term Extraction and Polarity Classification\t-->\tCalling Count:1\n",
            "2023-04-08 18:57:27,270 INFO: tokenizer:BertTokenizerFast(name_or_path='bert-large-uncased', vocab_size=30522, model_max_length=512, is_fast=True, padding_side='right', truncation_side='right', special_tokens={'bos_token': '[CLS]', 'eos_token': '[SEP]', 'unk_token': '[UNK]', 'sep_token': '[SEP]', 'pad_token': '[PAD]', 'cls_token': '[CLS]', 'mask_token': '[MASK]'})\t-->\tCalling Count:0\n",
            "2023-04-08 18:57:27,271 INFO: use_amp:False\t-->\tCalling Count:6842\n",
            "2023-04-08 18:57:27,272 INFO: use_bert_spc:True\t-->\tCalling Count:8634\n",
            "2023-04-08 18:57:27,272 INFO: use_syntax_based_SRD:False\t-->\tCalling Count:14712\n",
            "2023-04-08 18:57:27,273 INFO: verbose:False\t-->\tCalling Count:1\n",
            "2023-04-08 18:57:27,274 INFO: warmup_step:-1\t-->\tCalling Count:3422\n",
            "2023-04-08 18:57:27,274 INFO: window:lr\t-->\tCalling Count:0\n",
            "2023-04-08 18:57:27,284 INFO: cuda memory allocated:1391793152\n",
            "2023-04-08 18:57:27,284 INFO: ABSADatasetsVersion:None\t-->\tCalling Count:0\n",
            "2023-04-08 18:57:27,285 INFO: IOB_label_to_index:{'B-ASP': 1, 'I-ASP': 2, 'O': 3, '[CLS]': 4, '[SEP]': 5}\t-->\tCalling Count:2\n",
            "2023-04-08 18:57:27,285 INFO: MV:<metric_visualizer.metric_visualizer.MetricVisualizer object at 0x000001FB1F4965E0>\t-->\tCalling Count:4\n",
            "2023-04-08 18:57:27,286 INFO: PyABSAVersion:2.1.5\t-->\tCalling Count:1\n",
            "2023-04-08 18:57:27,287 INFO: SRD:3\t-->\tCalling Count:29424\n",
            "2023-04-08 18:57:27,287 INFO: TorchVersion:1.13.1+cuda11.7\t-->\tCalling Count:1\n",
            "2023-04-08 18:57:27,287 INFO: TransformersVersion:4.26.1\t-->\tCalling Count:1\n",
            "2023-04-08 18:57:27,288 INFO: auto_device:True\t-->\tCalling Count:3426\n",
            "2023-04-08 18:57:27,288 INFO: batch_size:8\t-->\tCalling Count:10\n",
            "2023-04-08 18:57:27,289 INFO: cache_dataset:True\t-->\tCalling Count:2\n",
            "2023-04-08 18:57:27,289 INFO: checkpoint_save_mode:1\t-->\tCalling Count:5\n",
            "2023-04-08 18:57:27,290 INFO: cross_validate_fold:-1\t-->\tCalling Count:3\n",
            "2023-04-08 18:57:27,291 INFO: dataset_file:{'train': ['New folder\\\\119.Yelp\\\\yelp.train.txt.atepc', '119.Yelp\\\\yelp.train.txt.atepc', '101.Updated\\\\Updated.train.csv.atepc', '115.restaurant15\\\\restaurant_train.raw.atepc', 'integrated_datasets\\\\atepc_datasets\\\\119.Yelp\\\\yelp.train.txt.atepc', '116.restaurant16\\\\restaurant_train.raw.atepc'], 'test': ['integrated_datasets\\\\atepc_datasets\\\\119.Yelp\\\\yelp.test.txt.atepc', '115.restaurant15\\\\restaurant_test.raw.atepc', '116.restaurant16\\\\restaurant_test.raw.atepc', 'New folder\\\\119.Yelp\\\\yelp.test.txt.atepc', '119.Yelp\\\\yelp.test.txt.atepc', '101.Updated\\\\Updated.test.csv.atepc'], 'valid': []}\t-->\tCalling Count:10\n",
            "2023-04-08 18:57:27,293 INFO: dataset_name:my_dataset\t-->\tCalling Count:16\n",
            "2023-04-08 18:57:27,294 INFO: device:cuda:0\t-->\tCalling Count:54267\n",
            "2023-04-08 18:57:27,294 INFO: device_name:NVIDIA GeForce RTX 3070 Ti Laptop GPU\t-->\tCalling Count:1\n",
            "2023-04-08 18:57:27,295 INFO: dropout:0.5\t-->\tCalling Count:2\n",
            "2023-04-08 18:57:27,296 INFO: dynamic_truncate:True\t-->\tCalling Count:29424\n",
            "2023-04-08 18:57:27,297 INFO: embed_dim:1024\t-->\tCalling Count:0\n",
            "2023-04-08 18:57:27,297 INFO: evaluate_begin:0\t-->\tCalling Count:11\n",
            "2023-04-08 18:57:27,298 INFO: from_checkpoint:None\t-->\tCalling Count:2\n",
            "2023-04-08 18:57:27,299 INFO: gradient_accumulation_steps:1\t-->\tCalling Count:6\n",
            "2023-04-08 18:57:27,300 INFO: hidden_dim:1024\t-->\tCalling Count:12\n",
            "2023-04-08 18:57:27,300 INFO: index_to_IOB_label:{1: 'B-ASP', 2: 'I-ASP', 3: 'O', 4: '[CLS]', 5: '[SEP]'}\t-->\tCalling Count:0\n",
            "2023-04-08 18:57:27,301 INFO: index_to_label:{0: 'Negative', 1: 'Neutral', 2: 'Positive'}\t-->\tCalling Count:4\n",
            "2023-04-08 18:57:27,301 INFO: inference_model:None\t-->\tCalling Count:0\n",
            "2023-04-08 18:57:27,301 INFO: initializer:xavier_uniform_\t-->\tCalling Count:0\n",
            "2023-04-08 18:57:27,302 INFO: l2reg:1e-05\t-->\tCalling Count:4\n",
            "2023-04-08 18:57:27,302 INFO: label_list:['B-ASP', 'I-ASP', 'O', '[CLS]', '[SEP]']\t-->\tCalling Count:13\n",
            "2023-04-08 18:57:27,303 INFO: label_to_index:{'Negative': 0, 'Neutral': 1, 'Positive': 2}\t-->\tCalling Count:0\n",
            "2023-04-08 18:57:27,303 INFO: lcf:cdw\t-->\tCalling Count:12062\n",
            "2023-04-08 18:57:27,304 INFO: learning_rate:2e-05\t-->\tCalling Count:2\n",
            "2023-04-08 18:57:27,305 INFO: load_aug:False\t-->\tCalling Count:1\n",
            "2023-04-08 18:57:27,305 INFO: log_step:684\t-->\tCalling Count:3422\n",
            "2023-04-08 18:57:27,305 INFO: logger:<Logger fast_lcf_atepc (INFO)>\t-->\tCalling Count:24\n",
            "2023-04-08 18:57:27,306 INFO: loss:0.38670050371438264\t-->\tCalling Count:0\n",
            "2023-04-08 18:57:27,306 INFO: max_seq_len:80\t-->\tCalling Count:115042\n",
            "2023-04-08 18:57:27,307 INFO: max_test_metrics:{'max_apc_test_acc': 83.8, 'max_apc_test_f1': 67.4, 'max_ate_test_f1': 83.22}\t-->\tCalling Count:93\n",
            "2023-04-08 18:57:27,308 INFO: metrics_of_this_checkpoint:{'apc_acc': 80.2, 'apc_f1': 64.74, 'ate_f1': 82.54}\t-->\tCalling Count:30\n",
            "2023-04-08 18:57:27,309 INFO: model:<class 'pyabsa.tasks.AspectTermExtraction.models.__lcf__.fast_lcf_atepc.FAST_LCF_ATEPC'>\t-->\tCalling Count:6\n",
            "2023-04-08 18:57:27,309 INFO: model_name:fast_lcf_atepc\t-->\tCalling Count:14759\n",
            "2023-04-08 18:57:27,310 INFO: model_path_to_save:checkpoints\t-->\tCalling Count:21\n",
            "2023-04-08 18:57:27,310 INFO: notice:This is an training example for aspect term extraction\t-->\tCalling Count:0\n",
            "2023-04-08 18:57:27,311 INFO: num_epoch:10\t-->\tCalling Count:3\n",
            "2023-04-08 18:57:27,311 INFO: num_labels:6\t-->\tCalling Count:4\n",
            "2023-04-08 18:57:27,312 INFO: optimizer:adamw\t-->\tCalling Count:4\n",
            "2023-04-08 18:57:27,313 INFO: output_dim:3\t-->\tCalling Count:13\n",
            "2023-04-08 18:57:27,313 INFO: overwrite_cache:False\t-->\tCalling Count:0\n",
            "2023-04-08 18:57:27,314 INFO: path_to_save:None\t-->\tCalling Count:1\n",
            "2023-04-08 18:57:27,315 INFO: patience:2\t-->\tCalling Count:9\n",
            "2023-04-08 18:57:27,316 INFO: pretrained_bert:bert-large-uncased\t-->\tCalling Count:11\n",
            "2023-04-08 18:57:27,316 INFO: save_mode:1\t-->\tCalling Count:17\n",
            "2023-04-08 18:57:27,317 INFO: seed:2\t-->\tCalling Count:10\n",
            "2023-04-08 18:57:27,317 INFO: sep_indices:102\t-->\tCalling Count:68893\n",
            "2023-04-08 18:57:27,318 INFO: show_metric:False\t-->\tCalling Count:0\n",
            "2023-04-08 18:57:27,319 INFO: spacy_model:en_core_web_sm\t-->\tCalling Count:7\n",
            "2023-04-08 18:57:27,319 INFO: srd_alignment:True\t-->\tCalling Count:0\n",
            "2023-04-08 18:57:27,320 INFO: task_code:ATEPC\t-->\tCalling Count:1\n",
            "2023-04-08 18:57:27,320 INFO: task_name:Aspect Term Extraction and Polarity Classification\t-->\tCalling Count:1\n",
            "2023-04-08 18:57:27,321 INFO: tokenizer:BertTokenizerFast(name_or_path='bert-large-uncased', vocab_size=30522, model_max_length=512, is_fast=True, padding_side='right', truncation_side='right', special_tokens={'bos_token': '[CLS]', 'eos_token': '[SEP]', 'unk_token': '[UNK]', 'sep_token': '[SEP]', 'pad_token': '[PAD]', 'cls_token': '[CLS]', 'mask_token': '[MASK]'})\t-->\tCalling Count:0\n",
            "2023-04-08 18:57:27,322 INFO: use_amp:False\t-->\tCalling Count:6842\n",
            "2023-04-08 18:57:27,322 INFO: use_bert_spc:True\t-->\tCalling Count:8634\n",
            "2023-04-08 18:57:27,323 INFO: use_syntax_based_SRD:False\t-->\tCalling Count:14712\n",
            "2023-04-08 18:57:27,323 INFO: verbose:False\t-->\tCalling Count:2\n",
            "2023-04-08 18:57:27,324 INFO: warmup_step:-1\t-->\tCalling Count:3422\n",
            "2023-04-08 18:57:27,324 INFO: window:lr\t-->\tCalling Count:0\n",
            "2023-04-08 18:57:27,325 INFO: ***** Running training for Aspect Term Extraction and Polarity Classification *****\n",
            "2023-04-08 18:57:27,326 INFO:   Num examples = 5467\n",
            "2023-04-08 18:57:27,326 INFO:   Batch size = 8\n",
            "2023-04-08 18:57:27,327 INFO:   Num steps = 6830\n"
          ]
        },
        {
          "name": "stderr",
          "output_type": "stream",
          "text": [
            "Epoch:  0| loss_apc:0.7405 | loss_ate:0.1754 |: 100%|██████████| 684/684 [04:57<00:00,  2.30it/s,  APC_ACC: 81.21(max:81.21) | APC_F1: 61.24(max:61.24) | ATE_F1: 71.88(max:71.88)]\n",
            "Epoch:  1| loss_apc:0.7902 | loss_ate:0.1503 |: 100%|██████████| 684/684 [04:59<00:00,  2.29it/s,  APC_ACC: 82.80(max:82.80) | APC_F1: 61.54(max:61.54) | ATE_F1: 77.15(max:78.23)]\n",
            "Epoch:  2| loss_apc:0.2827 | loss_ate:0.0711 |: 100%|██████████| 684/684 [04:58<00:00,  2.29it/s,  APC_ACC: 81.05(max:82.80) | APC_F1: 61.66(max:61.66) | ATE_F1: 76.28(max:78.23)]\n",
            "Epoch:  3| loss_apc:0.2302 | loss_ate:0.0174 |: 100%|██████████| 684/684 [04:59<00:00,  2.28it/s,  APC_ACC: 82.64(max:83.38) | APC_F1: 65.46(max:67.67) | ATE_F1: 78.63(max:79.24)]\n",
            "Epoch:  4| loss_apc:0.3460 | loss_ate:0.0073 |: 100%|██████████| 684/684 [04:59<00:00,  2.29it/s,  APC_ACC: 79.83(max:83.38) | APC_F1: 66.07(max:67.67) | ATE_F1: 80.54(max:80.54)]\n",
            "Epoch:  5| loss_apc:0.1663 | loss_ate:0.0346 |: 100%|██████████| 684/684 [04:57<00:00,  2.30it/s,  APC_ACC: 84.22(max:84.22) | APC_F1: 68.40(max:68.40) | ATE_F1: 78.95(max:80.54)]\n",
            "Epoch:  6| loss_apc:0.2808 | loss_ate:0.0092 |: 100%|██████████| 684/684 [04:55<00:00,  2.32it/s,  APC_ACC: 83.32(max:84.33) | APC_F1: 65.97(max:68.72) | ATE_F1: 79.17(max:80.54)]\n",
            "Epoch:  7| loss_apc:0.5040 | loss_ate:0.0175 |: 100%|██████████| 684/684 [04:53<00:00,  2.33it/s,  APC_ACC: 83.91(max:84.33) | APC_F1: 66.53(max:68.72) | ATE_F1: 80.15(max:80.54)]\n"
          ]
        },
        {
          "name": "stdout",
          "output_type": "stream",
          "text": [
            "2023-04-08 19:37:29,598 INFO: \n",
            "------------------------------------------------------------------ Raw Metric Records ------------------------------------------------------------------\n",
            "╒════════════════════════════════╤══════════════════════════════════════════════╤════════════════╤═══════════╤══════════╤═══════╤═══════╤═══════╤═══════╕\n",
            "│ Metric                         │ Trial                                        │ Values         │  Average  │  Median  │  Std  │  IQR  │  Min  │  Max  │\n",
            "╞════════════════════════════════╪══════════════════════════════════════════════╪════════════════╪═══════════╪══════════╪═══════╪═══════╪═══════╪═══════╡\n",
            "│ Max-APC-Test-Acc w/o Valid Set │ fast_lcf_atepc-my_dataset-bert-large-uncased │ [83.8, 84.33]  │   84.06   │  84.06   │ 0.27  │ 0.26  │ 83.8  │ 84.33 │\n",
            "├────────────────────────────────┼──────────────────────────────────────────────┼────────────────┼───────────┼──────────┼───────┼───────┼───────┼───────┤\n",
            "│ Max-APC-Test-F1 w/o Valid Set  │ fast_lcf_atepc-my_dataset-bert-large-uncased │ [67.4, 68.72]  │   68.06   │  68.06   │ 0.66  │ 0.66  │ 67.4  │ 68.72 │\n",
            "├────────────────────────────────┼──────────────────────────────────────────────┼────────────────┼───────────┼──────────┼───────┼───────┼───────┼───────┤\n",
            "│ Max-ATE-Test-F1 w/o Valid Set  │ fast_lcf_atepc-my_dataset-bert-large-uncased │ [83.22, 80.54] │   81.88   │  81.88   │ 1.34  │ 1.34  │ 80.54 │ 83.22 │\n",
            "╘════════════════════════════════╧══════════════════════════════════════════════╧════════════════╧═══════════╧══════════╧═══════╧═══════╧═══════╧═══════╛\n",
            "---------------------------------------------------- https://github.com/yangheng95/metric_visualizer ----------------------------------------------------\n",
            "\n",
            "2023-04-08 19:37:29,614 INFO: ABSADatasetsVersion:None\t-->\tCalling Count:0\n",
            "2023-04-08 19:37:29,615 INFO: IOB_label_to_index:{'B-ASP': 1, 'I-ASP': 2, 'O': 3, '[CLS]': 4, '[SEP]': 5}\t-->\tCalling Count:2\n",
            "2023-04-08 19:37:29,616 INFO: MV:<metric_visualizer.metric_visualizer.MetricVisualizer object at 0x000001FB1F4965E0>\t-->\tCalling Count:8\n",
            "2023-04-08 19:37:29,616 INFO: PyABSAVersion:2.1.5\t-->\tCalling Count:1\n",
            "2023-04-08 19:37:29,616 INFO: SRD:3\t-->\tCalling Count:29424\n",
            "2023-04-08 19:37:29,618 INFO: TorchVersion:1.13.1+cuda11.7\t-->\tCalling Count:1\n",
            "2023-04-08 19:37:29,618 INFO: TransformersVersion:4.26.1\t-->\tCalling Count:1\n",
            "2023-04-08 19:37:29,618 INFO: auto_device:True\t-->\tCalling Count:8898\n",
            "2023-04-08 19:37:29,619 INFO: batch_size:8\t-->\tCalling Count:12\n",
            "2023-04-08 19:37:29,619 INFO: cache_dataset:True\t-->\tCalling Count:2\n",
            "2023-04-08 19:37:29,620 INFO: checkpoint_save_mode:1\t-->\tCalling Count:5\n",
            "2023-04-08 19:37:29,620 INFO: cross_validate_fold:-1\t-->\tCalling Count:4\n",
            "2023-04-08 19:37:29,621 INFO: dataset_file:{'train': ['New folder\\\\119.Yelp\\\\yelp.train.txt.atepc', '119.Yelp\\\\yelp.train.txt.atepc', '101.Updated\\\\Updated.train.csv.atepc', '115.restaurant15\\\\restaurant_train.raw.atepc', 'integrated_datasets\\\\atepc_datasets\\\\119.Yelp\\\\yelp.train.txt.atepc', '116.restaurant16\\\\restaurant_train.raw.atepc'], 'test': ['integrated_datasets\\\\atepc_datasets\\\\119.Yelp\\\\yelp.test.txt.atepc', '115.restaurant15\\\\restaurant_test.raw.atepc', '116.restaurant16\\\\restaurant_test.raw.atepc', 'New folder\\\\119.Yelp\\\\yelp.test.txt.atepc', '119.Yelp\\\\yelp.test.txt.atepc', '101.Updated\\\\Updated.test.csv.atepc'], 'valid': []}\t-->\tCalling Count:10\n",
            "2023-04-08 19:37:29,621 INFO: dataset_name:my_dataset\t-->\tCalling Count:29\n",
            "2023-04-08 19:37:29,622 INFO: device:cuda:0\t-->\tCalling Count:139785\n",
            "2023-04-08 19:37:29,623 INFO: device_name:NVIDIA GeForce RTX 3070 Ti Laptop GPU\t-->\tCalling Count:1\n",
            "2023-04-08 19:37:29,624 INFO: dropout:0.5\t-->\tCalling Count:2\n",
            "2023-04-08 19:37:29,624 INFO: dynamic_truncate:True\t-->\tCalling Count:29424\n",
            "2023-04-08 19:37:29,625 INFO: embed_dim:1024\t-->\tCalling Count:0\n",
            "2023-04-08 19:37:29,625 INFO: evaluate_begin:0\t-->\tCalling Count:28\n",
            "2023-04-08 19:37:29,627 INFO: from_checkpoint:None\t-->\tCalling Count:4\n",
            "2023-04-08 19:37:29,627 INFO: gradient_accumulation_steps:1\t-->\tCalling Count:6\n",
            "2023-04-08 19:37:29,628 INFO: hidden_dim:1024\t-->\tCalling Count:12\n",
            "2023-04-08 19:37:29,628 INFO: index_to_IOB_label:{1: 'B-ASP', 2: 'I-ASP', 3: 'O', 4: '[CLS]', 5: '[SEP]'}\t-->\tCalling Count:0\n",
            "2023-04-08 19:37:29,629 INFO: index_to_label:{0: 'Negative', 1: 'Neutral', 2: 'Positive'}\t-->\tCalling Count:4\n",
            "2023-04-08 19:37:29,629 INFO: inference_model:None\t-->\tCalling Count:0\n",
            "2023-04-08 19:37:29,630 INFO: initializer:xavier_uniform_\t-->\tCalling Count:0\n",
            "2023-04-08 19:37:29,630 INFO: l2reg:1e-05\t-->\tCalling Count:4\n",
            "2023-04-08 19:37:29,630 INFO: label_list:['B-ASP', 'I-ASP', 'O', '[CLS]', '[SEP]']\t-->\tCalling Count:30\n",
            "2023-04-08 19:37:29,631 INFO: label_to_index:{'Negative': 0, 'Neutral': 1, 'Positive': 2}\t-->\tCalling Count:0\n",
            "2023-04-08 19:37:29,631 INFO: lcf:cdw\t-->\tCalling Count:31073\n",
            "2023-04-08 19:37:29,632 INFO: learning_rate:2e-05\t-->\tCalling Count:2\n",
            "2023-04-08 19:37:29,632 INFO: load_aug:False\t-->\tCalling Count:1\n",
            "2023-04-08 19:37:29,633 INFO: log_step:684\t-->\tCalling Count:8895\n",
            "2023-04-08 19:37:29,633 INFO: logger:<Logger fast_lcf_atepc (INFO)>\t-->\tCalling Count:25\n",
            "2023-04-08 19:37:29,634 INFO: loss:0.7611222356557846\t-->\tCalling Count:0\n",
            "2023-04-08 19:37:29,634 INFO: max_seq_len:80\t-->\tCalling Count:134044\n",
            "2023-04-08 19:37:29,635 INFO: max_test_metrics:{'max_apc_test_acc': 84.33, 'max_apc_test_f1': 68.72, 'max_ate_test_f1': 80.54}\t-->\tCalling Count:224\n",
            "2023-04-08 19:37:29,635 INFO: metrics_of_this_checkpoint:{'apc_acc': 83.91, 'apc_f1': 66.53, 'ate_f1': 80.15}\t-->\tCalling Count:78\n",
            "2023-04-08 19:37:29,636 INFO: model:<class 'pyabsa.tasks.AspectTermExtraction.models.__lcf__.fast_lcf_atepc.FAST_LCF_ATEPC'>\t-->\tCalling Count:6\n",
            "2023-04-08 19:37:29,636 INFO: model_name:fast_lcf_atepc\t-->\tCalling Count:14808\n",
            "2023-04-08 19:37:29,636 INFO: model_path_to_save:checkpoints\t-->\tCalling Count:40\n",
            "2023-04-08 19:37:29,637 INFO: notice:This is an training example for aspect term extraction\t-->\tCalling Count:0\n",
            "2023-04-08 19:37:29,638 INFO: num_epoch:10\t-->\tCalling Count:4\n",
            "2023-04-08 19:37:29,638 INFO: num_labels:6\t-->\tCalling Count:4\n",
            "2023-04-08 19:37:29,639 INFO: optimizer:adamw\t-->\tCalling Count:4\n",
            "2023-04-08 19:37:29,639 INFO: output_dim:3\t-->\tCalling Count:30\n",
            "2023-04-08 19:37:29,640 INFO: overwrite_cache:False\t-->\tCalling Count:0\n",
            "2023-04-08 19:37:29,640 INFO: path_to_save:None\t-->\tCalling Count:1\n",
            "2023-04-08 19:37:29,640 INFO: patience:2\t-->\tCalling Count:19\n",
            "2023-04-08 19:37:29,641 INFO: pretrained_bert:bert-large-uncased\t-->\tCalling Count:14\n",
            "2023-04-08 19:37:29,641 INFO: save_mode:1\t-->\tCalling Count:35\n",
            "2023-04-08 19:37:29,642 INFO: seed:2\t-->\tCalling Count:10\n",
            "2023-04-08 19:37:29,642 INFO: sep_indices:102\t-->\tCalling Count:176855\n",
            "2023-04-08 19:37:29,643 INFO: show_metric:False\t-->\tCalling Count:0\n",
            "2023-04-08 19:37:29,643 INFO: spacy_model:en_core_web_sm\t-->\tCalling Count:7\n",
            "2023-04-08 19:37:29,643 INFO: srd_alignment:True\t-->\tCalling Count:0\n",
            "2023-04-08 19:37:29,644 INFO: task_code:ATEPC\t-->\tCalling Count:1\n",
            "2023-04-08 19:37:29,644 INFO: task_name:Aspect Term Extraction and Polarity Classification\t-->\tCalling Count:2\n",
            "2023-04-08 19:37:29,645 INFO: tokenizer:BertTokenizerFast(name_or_path='bert-large-uncased', vocab_size=30522, model_max_length=512, is_fast=True, padding_side='right', truncation_side='right', special_tokens={'bos_token': '[CLS]', 'eos_token': '[SEP]', 'unk_token': '[UNK]', 'sep_token': '[SEP]', 'pad_token': '[PAD]', 'cls_token': '[CLS]', 'mask_token': '[MASK]'})\t-->\tCalling Count:0\n",
            "2023-04-08 19:37:29,646 INFO: use_amp:False\t-->\tCalling Count:17786\n",
            "2023-04-08 19:37:29,646 INFO: use_bert_spc:True\t-->\tCalling Count:22164\n",
            "2023-04-08 19:37:29,647 INFO: use_syntax_based_SRD:False\t-->\tCalling Count:14712\n",
            "2023-04-08 19:37:29,647 INFO: verbose:False\t-->\tCalling Count:2\n",
            "2023-04-08 19:37:29,648 INFO: warmup_step:-1\t-->\tCalling Count:8896\n",
            "2023-04-08 19:37:29,648 INFO: window:lr\t-->\tCalling Count:0\n"
          ]
        },
        {
          "name": "stderr",
          "output_type": "stream",
          "text": [
            "Using bos_token, but it is not set yet.\n",
            "Using eos_token, but it is not set yet.\n"
          ]
        },
        {
          "name": "stdout",
          "output_type": "stream",
          "text": [
            "[2023-04-08 19:37:33] (2.1.5) warning! ignore detected error line(s) in input file:  O -100\n",
            "\n"
          ]
        },
        {
          "name": "stderr",
          "output_type": "stream",
          "text": [
            "convert examples to features:   1%|          | 55/5470 [00:00<00:19, 274.60it/s]Token indices sequence length is longer than the specified maximum sequence length for this model (1034 > 512). Running this sequence through the model will result in indexing errors\n",
            "convert examples to features:  50%|████▉     | 2729/5470 [00:07<00:02, 1300.31it/s]"
          ]
        },
        {
          "name": "stdout",
          "output_type": "stream",
          "text": [
            "2023-04-08 19:37:41,462 WARNING: AspectTooLongWarning -> <aspect: egg noodles in the beef broth with shrimp dumplings and slices of bbq roast pork> is too long, <text: i fell in love with the egg noodles in the beef broth with shrimp dumplings and slices of bbq roast pork .>, <polarity: Positive>\n"
          ]
        },
        {
          "name": "stderr",
          "output_type": "stream",
          "text": [
            "convert examples to features:  86%|████████▌ | 4711/5470 [00:11<00:00, 1306.04it/s]"
          ]
        },
        {
          "name": "stdout",
          "output_type": "stream",
          "text": [
            "2023-04-08 19:37:45,398 WARNING: AspectTooLongWarning -> <aspect: egg noodles in the beef broth with shrimp dumplings and slices of bbq roast pork> is too long, <text: i fell in love with the egg noodles in the beef broth with shrimp dumplings and slices of bbq roast pork .>, <polarity: Positive>\n"
          ]
        },
        {
          "name": "stderr",
          "output_type": "stream",
          "text": [
            "convert examples to features:  91%|█████████▏| 5004/5470 [00:11<00:00, 1305.53it/s]"
          ]
        },
        {
          "name": "stdout",
          "output_type": "stream",
          "text": [
            "2023-04-08 19:37:45,629 WARNING: AspectTooLongWarning -> <aspect: cocktail with citrus vodka and lemon and lime juice and mint leaves> is too long, <text: the have a great cocktail with citrus vodka and lemon and lime juice and mint leaves that is to die for !>, <polarity: Positive>\n"
          ]
        },
        {
          "name": "stderr",
          "output_type": "stream",
          "text": [
            "convert examples to features: 100%|██████████| 5470/5470 [00:11<00:00, 466.11it/s] "
          ]
        },
        {
          "name": "stdout",
          "output_type": "stream",
          "text": [
            "2023-04-08 19:37:45,906 INFO: Dataset Label Details: {'Negative': 1451, 'Neutral': 278, 'Positive': 3738, 'Sum': 5467}\n"
          ]
        },
        {
          "name": "stderr",
          "output_type": "stream",
          "text": [
            "\n"
          ]
        },
        {
          "name": "stdout",
          "output_type": "stream",
          "text": [
            "[2023-04-08 19:37:46] (2.1.5) warning! ignore detected error line(s) in input file:  O -100\n",
            "\n"
          ]
        },
        {
          "name": "stderr",
          "output_type": "stream",
          "text": [
            "convert examples to features:  20%|██        | 382/1891 [00:00<00:02, 607.46it/s]"
          ]
        },
        {
          "name": "stdout",
          "output_type": "stream",
          "text": [
            "2023-04-08 19:37:47,699 WARNING: AspectTooLongWarning -> <aspect: cocktail with citrus vodka and lemon and lime juice and mint leaves> is too long, <text: the have a great cocktail with citrus vodka and lemon and lime juice and mint leaves that is to die for !>, <polarity: Positive>\n"
          ]
        },
        {
          "name": "stderr",
          "output_type": "stream",
          "text": [
            "convert examples to features:  57%|█████▋    | 1084/1891 [00:01<00:00, 994.87it/s]"
          ]
        },
        {
          "name": "stdout",
          "output_type": "stream",
          "text": [
            "2023-04-08 19:37:48,376 WARNING: AspectTooLongWarning -> <aspect: appetizer of oysters , lobster , crab ( small size )> is too long, <text: the appetizer of oysters , lobster , crab ( small size ) made a perfect entre for my wife .>, <polarity: Positive>\n"
          ]
        },
        {
          "name": "stderr",
          "output_type": "stream",
          "text": [
            "convert examples to features: 100%|██████████| 1891/1891 [00:03<00:00, 479.52it/s]"
          ]
        },
        {
          "name": "stdout",
          "output_type": "stream",
          "text": [
            "2023-04-08 19:37:50,619 INFO: Dataset Label Details: {'Negative': 449, 'Neutral': 112, 'Positive': 1328, 'Sum': 1889}\n"
          ]
        },
        {
          "name": "stderr",
          "output_type": "stream",
          "text": [
            "\n",
            "Some weights of the model checkpoint at bert-large-uncased were not used when initializing BertModel: ['cls.predictions.transform.dense.weight', 'cls.seq_relationship.weight', 'cls.predictions.transform.LayerNorm.bias', 'cls.predictions.decoder.weight', 'cls.seq_relationship.bias', 'cls.predictions.transform.dense.bias', 'cls.predictions.transform.LayerNorm.weight', 'cls.predictions.bias']\n",
            "- This IS expected if you are initializing BertModel from the checkpoint of a model trained on another task or with another architecture (e.g. initializing a BertForSequenceClassification model from a BertForPreTraining model).\n",
            "- This IS NOT expected if you are initializing BertModel from the checkpoint of a model that you expect to be exactly identical (initializing a BertForSequenceClassification model from a BertForSequenceClassification model).\n"
          ]
        },
        {
          "name": "stdout",
          "output_type": "stream",
          "text": [
            "2023-04-08 19:37:53,276 INFO: Save cache dataset to fast_lcf_atepc.my_dataset.dataset.48cb3d530724a3e43b76a4e2e1bbf255e0f0da4e65658be663cb68be5057178d.cache\n",
            "2023-04-08 19:37:54,032 INFO: cuda memory allocated:1391793152\n",
            "2023-04-08 19:37:54,033 INFO: ABSADatasetsVersion:None\t-->\tCalling Count:0\n",
            "2023-04-08 19:37:54,034 INFO: IOB_label_to_index:{'B-ASP': 1, 'I-ASP': 2, 'O': 3, '[CLS]': 4, '[SEP]': 5}\t-->\tCalling Count:3\n",
            "2023-04-08 19:37:54,035 INFO: MV:<metric_visualizer.metric_visualizer.MetricVisualizer object at 0x000001FB1F4965E0>\t-->\tCalling Count:8\n",
            "2023-04-08 19:37:54,035 INFO: PyABSAVersion:2.1.5\t-->\tCalling Count:1\n",
            "2023-04-08 19:37:54,036 INFO: SRD:3\t-->\tCalling Count:44136\n",
            "2023-04-08 19:37:54,036 INFO: TorchVersion:1.13.1+cuda11.7\t-->\tCalling Count:1\n",
            "2023-04-08 19:37:54,037 INFO: TransformersVersion:4.26.1\t-->\tCalling Count:1\n",
            "2023-04-08 19:37:54,037 INFO: auto_device:True\t-->\tCalling Count:8899\n",
            "2023-04-08 19:37:54,038 INFO: batch_size:8\t-->\tCalling Count:16\n",
            "2023-04-08 19:37:54,039 INFO: cache_dataset:True\t-->\tCalling Count:3\n",
            "2023-04-08 19:37:54,039 INFO: checkpoint_save_mode:1\t-->\tCalling Count:6\n",
            "2023-04-08 19:37:54,040 INFO: cross_validate_fold:-1\t-->\tCalling Count:4\n",
            "2023-04-08 19:37:54,040 INFO: dataset_file:{'train': ['New folder\\\\119.Yelp\\\\yelp.train.txt.atepc', '119.Yelp\\\\yelp.train.txt.atepc', '101.Updated\\\\Updated.train.csv.atepc', '115.restaurant15\\\\restaurant_train.raw.atepc', 'integrated_datasets\\\\atepc_datasets\\\\119.Yelp\\\\yelp.train.txt.atepc', '116.restaurant16\\\\restaurant_train.raw.atepc'], 'test': ['integrated_datasets\\\\atepc_datasets\\\\119.Yelp\\\\yelp.test.txt.atepc', '115.restaurant15\\\\restaurant_test.raw.atepc', '116.restaurant16\\\\restaurant_test.raw.atepc', 'New folder\\\\119.Yelp\\\\yelp.test.txt.atepc', '119.Yelp\\\\yelp.test.txt.atepc', '101.Updated\\\\Updated.test.csv.atepc'], 'valid': []}\t-->\tCalling Count:14\n",
            "2023-04-08 19:37:54,041 INFO: dataset_name:my_dataset\t-->\tCalling Count:30\n",
            "2023-04-08 19:37:54,041 INFO: device:cuda:0\t-->\tCalling Count:139789\n",
            "2023-04-08 19:37:54,042 INFO: device_name:NVIDIA GeForce RTX 3070 Ti Laptop GPU\t-->\tCalling Count:1\n",
            "2023-04-08 19:37:54,043 INFO: dropout:0.5\t-->\tCalling Count:3\n",
            "2023-04-08 19:37:54,043 INFO: dynamic_truncate:True\t-->\tCalling Count:44136\n",
            "2023-04-08 19:37:54,043 INFO: embed_dim:1024\t-->\tCalling Count:0\n",
            "2023-04-08 19:37:54,044 INFO: evaluate_begin:0\t-->\tCalling Count:28\n",
            "2023-04-08 19:37:54,044 INFO: from_checkpoint:None\t-->\tCalling Count:4\n",
            "2023-04-08 19:37:54,045 INFO: gradient_accumulation_steps:1\t-->\tCalling Count:9\n",
            "2023-04-08 19:37:54,045 INFO: hidden_dim:1024\t-->\tCalling Count:18\n",
            "2023-04-08 19:37:54,046 INFO: index_to_IOB_label:{1: 'B-ASP', 2: 'I-ASP', 3: 'O', 4: '[CLS]', 5: '[SEP]'}\t-->\tCalling Count:0\n",
            "2023-04-08 19:37:54,046 INFO: index_to_label:{0: 'Negative', 1: 'Neutral', 2: 'Positive'}\t-->\tCalling Count:6\n",
            "2023-04-08 19:37:54,047 INFO: inference_model:None\t-->\tCalling Count:0\n",
            "2023-04-08 19:37:54,047 INFO: initializer:xavier_uniform_\t-->\tCalling Count:0\n",
            "2023-04-08 19:37:54,048 INFO: l2reg:1e-05\t-->\tCalling Count:6\n",
            "2023-04-08 19:37:54,048 INFO: label_list:['B-ASP', 'I-ASP', 'O', '[CLS]', '[SEP]']\t-->\tCalling Count:31\n",
            "2023-04-08 19:37:54,049 INFO: label_to_index:{'Negative': 0, 'Neutral': 1, 'Positive': 2}\t-->\tCalling Count:0\n",
            "2023-04-08 19:37:54,049 INFO: lcf:cdw\t-->\tCalling Count:31073\n",
            "2023-04-08 19:37:54,050 INFO: learning_rate:2e-05\t-->\tCalling Count:3\n",
            "2023-04-08 19:37:54,050 INFO: load_aug:False\t-->\tCalling Count:1\n",
            "2023-04-08 19:37:54,051 INFO: log_step:684\t-->\tCalling Count:8895\n",
            "2023-04-08 19:37:54,052 INFO: logger:<Logger fast_lcf_atepc (INFO)>\t-->\tCalling Count:34\n",
            "2023-04-08 19:37:54,052 INFO: loss:0.7611222356557846\t-->\tCalling Count:0\n",
            "2023-04-08 19:37:54,053 INFO: max_seq_len:80\t-->\tCalling Count:185538\n",
            "2023-04-08 19:37:54,054 INFO: max_test_metrics:{'max_apc_test_acc': 84.33, 'max_apc_test_f1': 68.72, 'max_ate_test_f1': 80.54}\t-->\tCalling Count:224\n",
            "2023-04-08 19:37:54,054 INFO: metrics_of_this_checkpoint:{'apc_acc': 83.91, 'apc_f1': 66.53, 'ate_f1': 80.15}\t-->\tCalling Count:78\n",
            "2023-04-08 19:37:54,055 INFO: model:<class 'pyabsa.tasks.AspectTermExtraction.models.__lcf__.fast_lcf_atepc.FAST_LCF_ATEPC'>\t-->\tCalling Count:7\n",
            "2023-04-08 19:37:54,055 INFO: model_name:fast_lcf_atepc\t-->\tCalling Count:22165\n",
            "2023-04-08 19:37:54,056 INFO: model_path_to_save:checkpoints\t-->\tCalling Count:42\n",
            "2023-04-08 19:37:54,057 INFO: notice:This is an training example for aspect term extraction\t-->\tCalling Count:0\n",
            "2023-04-08 19:37:54,057 INFO: num_epoch:10\t-->\tCalling Count:5\n",
            "2023-04-08 19:37:54,058 INFO: num_labels:6\t-->\tCalling Count:6\n",
            "2023-04-08 19:37:54,059 INFO: optimizer:adamw\t-->\tCalling Count:6\n",
            "2023-04-08 19:37:54,060 INFO: output_dim:3\t-->\tCalling Count:31\n",
            "2023-04-08 19:37:54,061 INFO: overwrite_cache:False\t-->\tCalling Count:0\n",
            "2023-04-08 19:37:54,061 INFO: path_to_save:None\t-->\tCalling Count:1\n",
            "2023-04-08 19:37:54,062 INFO: patience:2\t-->\tCalling Count:19\n",
            "2023-04-08 19:37:54,062 INFO: pretrained_bert:bert-large-uncased\t-->\tCalling Count:17\n",
            "2023-04-08 19:37:54,062 INFO: save_mode:1\t-->\tCalling Count:36\n",
            "2023-04-08 19:37:54,063 INFO: seed:3\t-->\tCalling Count:14\n",
            "2023-04-08 19:37:54,063 INFO: sep_indices:102\t-->\tCalling Count:176855\n",
            "2023-04-08 19:37:54,064 INFO: show_metric:False\t-->\tCalling Count:0\n",
            "2023-04-08 19:37:54,065 INFO: spacy_model:en_core_web_sm\t-->\tCalling Count:11\n",
            "2023-04-08 19:37:54,066 INFO: srd_alignment:True\t-->\tCalling Count:0\n",
            "2023-04-08 19:37:54,066 INFO: task_code:ATEPC\t-->\tCalling Count:1\n",
            "2023-04-08 19:37:54,067 INFO: task_name:Aspect Term Extraction and Polarity Classification\t-->\tCalling Count:2\n",
            "2023-04-08 19:37:54,067 INFO: tokenizer:BertTokenizerFast(name_or_path='bert-large-uncased', vocab_size=30522, model_max_length=512, is_fast=True, padding_side='right', truncation_side='right', special_tokens={'bos_token': '[CLS]', 'eos_token': '[SEP]', 'unk_token': '[UNK]', 'sep_token': '[SEP]', 'pad_token': '[PAD]', 'cls_token': '[CLS]', 'mask_token': '[MASK]'})\t-->\tCalling Count:0\n",
            "2023-04-08 19:37:54,068 INFO: use_amp:False\t-->\tCalling Count:17787\n",
            "2023-04-08 19:37:54,068 INFO: use_bert_spc:True\t-->\tCalling Count:22164\n",
            "2023-04-08 19:37:54,068 INFO: use_syntax_based_SRD:False\t-->\tCalling Count:22068\n",
            "2023-04-08 19:37:54,069 INFO: verbose:False\t-->\tCalling Count:2\n",
            "2023-04-08 19:37:54,070 INFO: warmup_step:-1\t-->\tCalling Count:8896\n",
            "2023-04-08 19:37:54,070 INFO: window:lr\t-->\tCalling Count:0\n",
            "2023-04-08 19:37:54,083 INFO: cuda memory allocated:1391793152\n",
            "2023-04-08 19:37:54,084 INFO: ABSADatasetsVersion:None\t-->\tCalling Count:0\n",
            "2023-04-08 19:37:54,084 INFO: IOB_label_to_index:{'B-ASP': 1, 'I-ASP': 2, 'O': 3, '[CLS]': 4, '[SEP]': 5}\t-->\tCalling Count:3\n",
            "2023-04-08 19:37:54,085 INFO: MV:<metric_visualizer.metric_visualizer.MetricVisualizer object at 0x000001FB1F4965E0>\t-->\tCalling Count:8\n",
            "2023-04-08 19:37:54,085 INFO: PyABSAVersion:2.1.5\t-->\tCalling Count:1\n",
            "2023-04-08 19:37:54,085 INFO: SRD:3\t-->\tCalling Count:44136\n",
            "2023-04-08 19:37:54,087 INFO: TorchVersion:1.13.1+cuda11.7\t-->\tCalling Count:1\n",
            "2023-04-08 19:37:54,087 INFO: TransformersVersion:4.26.1\t-->\tCalling Count:1\n",
            "2023-04-08 19:37:54,088 INFO: auto_device:True\t-->\tCalling Count:8900\n",
            "2023-04-08 19:37:54,088 INFO: batch_size:8\t-->\tCalling Count:16\n",
            "2023-04-08 19:37:54,088 INFO: cache_dataset:True\t-->\tCalling Count:3\n",
            "2023-04-08 19:37:54,088 INFO: checkpoint_save_mode:1\t-->\tCalling Count:6\n",
            "2023-04-08 19:37:54,089 INFO: cross_validate_fold:-1\t-->\tCalling Count:5\n",
            "2023-04-08 19:37:54,089 INFO: dataset_file:{'train': ['New folder\\\\119.Yelp\\\\yelp.train.txt.atepc', '119.Yelp\\\\yelp.train.txt.atepc', '101.Updated\\\\Updated.train.csv.atepc', '115.restaurant15\\\\restaurant_train.raw.atepc', 'integrated_datasets\\\\atepc_datasets\\\\119.Yelp\\\\yelp.train.txt.atepc', '116.restaurant16\\\\restaurant_train.raw.atepc'], 'test': ['integrated_datasets\\\\atepc_datasets\\\\119.Yelp\\\\yelp.test.txt.atepc', '115.restaurant15\\\\restaurant_test.raw.atepc', '116.restaurant16\\\\restaurant_test.raw.atepc', 'New folder\\\\119.Yelp\\\\yelp.test.txt.atepc', '119.Yelp\\\\yelp.test.txt.atepc', '101.Updated\\\\Updated.test.csv.atepc'], 'valid': []}\t-->\tCalling Count:14\n",
            "2023-04-08 19:37:54,090 INFO: dataset_name:my_dataset\t-->\tCalling Count:30\n",
            "2023-04-08 19:37:54,090 INFO: device:cuda:0\t-->\tCalling Count:139793\n",
            "2023-04-08 19:37:54,091 INFO: device_name:NVIDIA GeForce RTX 3070 Ti Laptop GPU\t-->\tCalling Count:1\n",
            "2023-04-08 19:37:54,092 INFO: dropout:0.5\t-->\tCalling Count:3\n",
            "2023-04-08 19:37:54,092 INFO: dynamic_truncate:True\t-->\tCalling Count:44136\n",
            "2023-04-08 19:37:54,093 INFO: embed_dim:1024\t-->\tCalling Count:0\n",
            "2023-04-08 19:37:54,093 INFO: evaluate_begin:0\t-->\tCalling Count:28\n",
            "2023-04-08 19:37:54,094 INFO: from_checkpoint:None\t-->\tCalling Count:4\n",
            "2023-04-08 19:37:54,094 INFO: gradient_accumulation_steps:1\t-->\tCalling Count:9\n",
            "2023-04-08 19:37:54,095 INFO: hidden_dim:1024\t-->\tCalling Count:18\n",
            "2023-04-08 19:37:54,095 INFO: index_to_IOB_label:{1: 'B-ASP', 2: 'I-ASP', 3: 'O', 4: '[CLS]', 5: '[SEP]'}\t-->\tCalling Count:0\n",
            "2023-04-08 19:37:54,096 INFO: index_to_label:{0: 'Negative', 1: 'Neutral', 2: 'Positive'}\t-->\tCalling Count:6\n",
            "2023-04-08 19:37:54,096 INFO: inference_model:None\t-->\tCalling Count:0\n",
            "2023-04-08 19:37:54,096 INFO: initializer:xavier_uniform_\t-->\tCalling Count:0\n",
            "2023-04-08 19:37:54,097 INFO: l2reg:1e-05\t-->\tCalling Count:6\n",
            "2023-04-08 19:37:54,097 INFO: label_list:['B-ASP', 'I-ASP', 'O', '[CLS]', '[SEP]']\t-->\tCalling Count:31\n",
            "2023-04-08 19:37:54,098 INFO: label_to_index:{'Negative': 0, 'Neutral': 1, 'Positive': 2}\t-->\tCalling Count:0\n",
            "2023-04-08 19:37:54,098 INFO: lcf:cdw\t-->\tCalling Count:31073\n",
            "2023-04-08 19:37:54,100 INFO: learning_rate:2e-05\t-->\tCalling Count:3\n",
            "2023-04-08 19:37:54,101 INFO: load_aug:False\t-->\tCalling Count:1\n",
            "2023-04-08 19:37:54,102 INFO: log_step:684\t-->\tCalling Count:8895\n",
            "2023-04-08 19:37:54,103 INFO: logger:<Logger fast_lcf_atepc (INFO)>\t-->\tCalling Count:34\n",
            "2023-04-08 19:37:54,103 INFO: loss:0.7611222356557846\t-->\tCalling Count:0\n",
            "2023-04-08 19:37:54,104 INFO: max_seq_len:80\t-->\tCalling Count:185538\n",
            "2023-04-08 19:37:54,104 INFO: max_test_metrics:{'max_apc_test_acc': 84.33, 'max_apc_test_f1': 68.72, 'max_ate_test_f1': 80.54}\t-->\tCalling Count:224\n",
            "2023-04-08 19:37:54,105 INFO: metrics_of_this_checkpoint:{'apc_acc': 83.91, 'apc_f1': 66.53, 'ate_f1': 80.15}\t-->\tCalling Count:78\n",
            "2023-04-08 19:37:54,105 INFO: model:<class 'pyabsa.tasks.AspectTermExtraction.models.__lcf__.fast_lcf_atepc.FAST_LCF_ATEPC'>\t-->\tCalling Count:7\n",
            "2023-04-08 19:37:54,106 INFO: model_name:fast_lcf_atepc\t-->\tCalling Count:22165\n",
            "2023-04-08 19:37:54,106 INFO: model_path_to_save:checkpoints\t-->\tCalling Count:42\n",
            "2023-04-08 19:37:54,106 INFO: notice:This is an training example for aspect term extraction\t-->\tCalling Count:0\n",
            "2023-04-08 19:37:54,107 INFO: num_epoch:10\t-->\tCalling Count:5\n",
            "2023-04-08 19:37:54,108 INFO: num_labels:6\t-->\tCalling Count:6\n",
            "2023-04-08 19:37:54,108 INFO: optimizer:adamw\t-->\tCalling Count:6\n",
            "2023-04-08 19:37:54,109 INFO: output_dim:3\t-->\tCalling Count:31\n",
            "2023-04-08 19:37:54,109 INFO: overwrite_cache:False\t-->\tCalling Count:0\n",
            "2023-04-08 19:37:54,109 INFO: path_to_save:None\t-->\tCalling Count:1\n",
            "2023-04-08 19:37:54,110 INFO: patience:2\t-->\tCalling Count:19\n",
            "2023-04-08 19:37:54,110 INFO: pretrained_bert:bert-large-uncased\t-->\tCalling Count:17\n",
            "2023-04-08 19:37:54,111 INFO: save_mode:1\t-->\tCalling Count:36\n",
            "2023-04-08 19:37:54,111 INFO: seed:3\t-->\tCalling Count:14\n",
            "2023-04-08 19:37:54,112 INFO: sep_indices:102\t-->\tCalling Count:176855\n",
            "2023-04-08 19:37:54,112 INFO: show_metric:False\t-->\tCalling Count:0\n",
            "2023-04-08 19:37:54,113 INFO: spacy_model:en_core_web_sm\t-->\tCalling Count:11\n",
            "2023-04-08 19:37:54,114 INFO: srd_alignment:True\t-->\tCalling Count:0\n",
            "2023-04-08 19:37:54,115 INFO: task_code:ATEPC\t-->\tCalling Count:1\n",
            "2023-04-08 19:37:54,116 INFO: task_name:Aspect Term Extraction and Polarity Classification\t-->\tCalling Count:2\n",
            "2023-04-08 19:37:54,116 INFO: tokenizer:BertTokenizerFast(name_or_path='bert-large-uncased', vocab_size=30522, model_max_length=512, is_fast=True, padding_side='right', truncation_side='right', special_tokens={'bos_token': '[CLS]', 'eos_token': '[SEP]', 'unk_token': '[UNK]', 'sep_token': '[SEP]', 'pad_token': '[PAD]', 'cls_token': '[CLS]', 'mask_token': '[MASK]'})\t-->\tCalling Count:0\n",
            "2023-04-08 19:37:54,117 INFO: use_amp:False\t-->\tCalling Count:17787\n",
            "2023-04-08 19:37:54,117 INFO: use_bert_spc:True\t-->\tCalling Count:22164\n",
            "2023-04-08 19:37:54,117 INFO: use_syntax_based_SRD:False\t-->\tCalling Count:22068\n",
            "2023-04-08 19:37:54,118 INFO: verbose:False\t-->\tCalling Count:3\n",
            "2023-04-08 19:37:54,118 INFO: warmup_step:-1\t-->\tCalling Count:8896\n",
            "2023-04-08 19:37:54,119 INFO: window:lr\t-->\tCalling Count:0\n",
            "2023-04-08 19:37:54,120 INFO: ***** Running training for Aspect Term Extraction and Polarity Classification *****\n",
            "2023-04-08 19:37:54,120 INFO:   Num examples = 5467\n",
            "2023-04-08 19:37:54,120 INFO:   Batch size = 8\n",
            "2023-04-08 19:37:54,121 INFO:   Num steps = 6830\n"
          ]
        },
        {
          "name": "stderr",
          "output_type": "stream",
          "text": [
            "Epoch:  0| loss_apc:0.2683 | loss_ate:0.0627 |: 100%|██████████| 684/684 [04:56<00:00,  2.31it/s,  APC_ACC: 80.52(max:80.52) | APC_F1: 51.35(max:51.35) | ATE_F1: 73.96(max:73.96)]\n",
            "Epoch:  1| loss_apc:0.5249 | loss_ate:0.0072 |: 100%|██████████| 684/684 [04:57<00:00,  2.30it/s,  APC_ACC: 80.89(max:80.89) | APC_F1: 57.56(max:57.56) | ATE_F1: 80.10(max:80.10)]\n",
            "Epoch:  2| loss_apc:0.5644 | loss_ate:0.0498 |: 100%|██████████| 684/684 [04:58<00:00,  2.29it/s,  APC_ACC: 82.95(max:83.17) | APC_F1: 63.56(max:63.84) | ATE_F1: 81.89(max:81.89)]\n",
            "Epoch:  3| loss_apc:0.1253 | loss_ate:0.0072 |: 100%|██████████| 684/684 [04:55<00:00,  2.31it/s,  APC_ACC: 84.01(max:84.01) | APC_F1: 65.80(max:65.80) | ATE_F1: 80.55(max:81.89)]\n",
            "Epoch:  4| loss_apc:0.0034 | loss_ate:0.0023 |: 100%|██████████| 684/684 [04:57<00:00,  2.30it/s,  APC_ACC: 83.38(max:84.01) | APC_F1: 66.58(max:67.17) | ATE_F1: 82.48(max:82.69)]\n",
            "Epoch:  5| loss_apc:0.7574 | loss_ate:0.0120 |: 100%|██████████| 684/684 [04:48<00:00,  2.37it/s,  APC_ACC: 81.90(max:84.01) | APC_F1: 67.15(max:67.17) | ATE_F1: 83.74(max:83.74)]\n",
            "Epoch:  6| loss_apc:0.1553 | loss_ate:0.0007 |: 100%|██████████| 684/684 [04:54<00:00,  2.32it/s,  APC_ACC: 83.17(max:84.01) | APC_F1: 65.69(max:68.64) | ATE_F1: 83.68(max:83.74)]\n",
            "Epoch:  7| loss_apc:0.1587 | loss_ate:0.0008 |: 100%|██████████| 684/684 [04:55<00:00,  2.31it/s,  APC_ACC: 82.16(max:84.01) | APC_F1: 65.75(max:68.64) | ATE_F1: 83.97(max:83.97)]\n",
            "Epoch:  8| loss_apc:1.4206 | loss_ate:0.0007 |: 100%|██████████| 684/684 [04:54<00:00,  2.32it/s,  APC_ACC: 83.11(max:84.01) | APC_F1: 65.03(max:68.64) | ATE_F1: 82.55(max:83.97)]\n"
          ]
        },
        {
          "name": "stdout",
          "output_type": "stream",
          "text": [
            "2023-04-08 20:22:34,709 INFO: \n",
            "---------------------------------------------------------------------- Raw Metric Records ----------------------------------------------------------------------\n",
            "╒════════════════════════════════╤══════════════════════════════════════════════╤═══════════════════════╤═══════════╤══════════╤═══════╤═══════╤═══════╤═══════╕\n",
            "│ Metric                         │ Trial                                        │ Values                │  Average  │  Median  │  Std  │  IQR  │  Min  │  Max  │\n",
            "╞════════════════════════════════╪══════════════════════════════════════════════╪═══════════════════════╪═══════════╪══════════╪═══════╪═══════╪═══════╪═══════╡\n",
            "│ Max-APC-Test-Acc w/o Valid Set │ fast_lcf_atepc-my_dataset-bert-large-uncased │ [83.8, 84.33, 84.01]  │   84.05   │  84.01   │ 0.22  │ 0.27  │ 83.8  │ 84.33 │\n",
            "├────────────────────────────────┼──────────────────────────────────────────────┼───────────────────────┼───────────┼──────────┼───────┼───────┼───────┼───────┤\n",
            "│ Max-APC-Test-F1 w/o Valid Set  │ fast_lcf_atepc-my_dataset-bert-large-uncased │ [67.4, 68.72, 68.64]  │   68.25   │  68.64   │  0.6  │ 0.66  │ 67.4  │ 68.72 │\n",
            "├────────────────────────────────┼──────────────────────────────────────────────┼───────────────────────┼───────────┼──────────┼───────┼───────┼───────┼───────┤\n",
            "│ Max-ATE-Test-F1 w/o Valid Set  │ fast_lcf_atepc-my_dataset-bert-large-uncased │ [83.22, 80.54, 83.97] │   82.58   │  83.22   │ 1.47  │ 1.72  │ 80.54 │ 83.97 │\n",
            "╘════════════════════════════════╧══════════════════════════════════════════════╧═══════════════════════╧═══════════╧══════════╧═══════╧═══════╧═══════╧═══════╛\n",
            "------------------------------------------------------- https://github.com/yangheng95/metric_visualizer -------------------------------------------------------\n",
            "\n",
            "2023-04-08 20:22:34,715 INFO: ABSADatasetsVersion:None\t-->\tCalling Count:0\n",
            "2023-04-08 20:22:34,715 INFO: IOB_label_to_index:{'B-ASP': 1, 'I-ASP': 2, 'O': 3, '[CLS]': 4, '[SEP]': 5}\t-->\tCalling Count:3\n",
            "2023-04-08 20:22:34,716 INFO: MV:<metric_visualizer.metric_visualizer.MetricVisualizer object at 0x000001FB1F4965E0>\t-->\tCalling Count:12\n",
            "2023-04-08 20:22:34,717 INFO: PyABSAVersion:2.1.5\t-->\tCalling Count:1\n",
            "2023-04-08 20:22:34,717 INFO: SRD:3\t-->\tCalling Count:44136\n",
            "2023-04-08 20:22:34,717 INFO: TorchVersion:1.13.1+cuda11.7\t-->\tCalling Count:1\n",
            "2023-04-08 20:22:34,718 INFO: TransformersVersion:4.26.1\t-->\tCalling Count:1\n",
            "2023-04-08 20:22:34,718 INFO: auto_device:True\t-->\tCalling Count:15056\n",
            "2023-04-08 20:22:34,719 INFO: batch_size:8\t-->\tCalling Count:18\n",
            "2023-04-08 20:22:34,719 INFO: cache_dataset:True\t-->\tCalling Count:3\n",
            "2023-04-08 20:22:34,719 INFO: checkpoint_save_mode:1\t-->\tCalling Count:6\n",
            "2023-04-08 20:22:34,720 INFO: cross_validate_fold:-1\t-->\tCalling Count:6\n",
            "2023-04-08 20:22:34,720 INFO: dataset_file:{'train': ['New folder\\\\119.Yelp\\\\yelp.train.txt.atepc', '119.Yelp\\\\yelp.train.txt.atepc', '101.Updated\\\\Updated.train.csv.atepc', '115.restaurant15\\\\restaurant_train.raw.atepc', 'integrated_datasets\\\\atepc_datasets\\\\119.Yelp\\\\yelp.train.txt.atepc', '116.restaurant16\\\\restaurant_train.raw.atepc'], 'test': ['integrated_datasets\\\\atepc_datasets\\\\119.Yelp\\\\yelp.test.txt.atepc', '115.restaurant15\\\\restaurant_test.raw.atepc', '116.restaurant16\\\\restaurant_test.raw.atepc', 'New folder\\\\119.Yelp\\\\yelp.test.txt.atepc', '119.Yelp\\\\yelp.test.txt.atepc', '101.Updated\\\\Updated.test.csv.atepc'], 'valid': []}\t-->\tCalling Count:14\n",
            "2023-04-08 20:22:34,721 INFO: dataset_name:my_dataset\t-->\tCalling Count:46\n",
            "2023-04-08 20:22:34,721 INFO: device:cuda:0\t-->\tCalling Count:235736\n",
            "2023-04-08 20:22:34,722 INFO: device_name:NVIDIA GeForce RTX 3070 Ti Laptop GPU\t-->\tCalling Count:1\n",
            "2023-04-08 20:22:34,722 INFO: dropout:0.5\t-->\tCalling Count:3\n",
            "2023-04-08 20:22:34,723 INFO: dynamic_truncate:True\t-->\tCalling Count:44136\n",
            "2023-04-08 20:22:34,724 INFO: embed_dim:1024\t-->\tCalling Count:0\n",
            "2023-04-08 20:22:34,724 INFO: evaluate_begin:0\t-->\tCalling Count:47\n",
            "2023-04-08 20:22:34,725 INFO: from_checkpoint:None\t-->\tCalling Count:6\n",
            "2023-04-08 20:22:34,725 INFO: gradient_accumulation_steps:1\t-->\tCalling Count:9\n",
            "2023-04-08 20:22:34,726 INFO: hidden_dim:1024\t-->\tCalling Count:18\n",
            "2023-04-08 20:22:34,726 INFO: index_to_IOB_label:{1: 'B-ASP', 2: 'I-ASP', 3: 'O', 4: '[CLS]', 5: '[SEP]'}\t-->\tCalling Count:0\n",
            "2023-04-08 20:22:34,726 INFO: index_to_label:{0: 'Negative', 1: 'Neutral', 2: 'Positive'}\t-->\tCalling Count:6\n",
            "2023-04-08 20:22:34,727 INFO: inference_model:None\t-->\tCalling Count:0\n",
            "2023-04-08 20:22:34,727 INFO: initializer:xavier_uniform_\t-->\tCalling Count:0\n",
            "2023-04-08 20:22:34,728 INFO: l2reg:1e-05\t-->\tCalling Count:6\n",
            "2023-04-08 20:22:34,728 INFO: label_list:['B-ASP', 'I-ASP', 'O', '[CLS]', '[SEP]']\t-->\tCalling Count:50\n",
            "2023-04-08 20:22:34,729 INFO: label_to_index:{'Negative': 0, 'Neutral': 1, 'Positive': 2}\t-->\tCalling Count:0\n",
            "2023-04-08 20:22:34,729 INFO: lcf:cdw\t-->\tCalling Count:52403\n",
            "2023-04-08 20:22:34,730 INFO: learning_rate:2e-05\t-->\tCalling Count:3\n",
            "2023-04-08 20:22:34,730 INFO: load_aug:False\t-->\tCalling Count:1\n",
            "2023-04-08 20:22:34,731 INFO: log_step:684\t-->\tCalling Count:15052\n",
            "2023-04-08 20:22:34,731 INFO: logger:<Logger fast_lcf_atepc (INFO)>\t-->\tCalling Count:35\n",
            "2023-04-08 20:22:34,732 INFO: loss:0.714729705452919\t-->\tCalling Count:0\n",
            "2023-04-08 20:22:34,732 INFO: max_seq_len:80\t-->\tCalling Count:206856\n",
            "2023-04-08 20:22:34,732 INFO: max_test_metrics:{'max_apc_test_acc': 84.01, 'max_apc_test_f1': 68.64, 'max_ate_test_f1': 83.97}\t-->\tCalling Count:381\n",
            "2023-04-08 20:22:34,732 INFO: metrics_of_this_checkpoint:{'apc_acc': 83.11, 'apc_f1': 65.03, 'ate_f1': 82.55}\t-->\tCalling Count:132\n",
            "2023-04-08 20:22:34,734 INFO: model:<class 'pyabsa.tasks.AspectTermExtraction.models.__lcf__.fast_lcf_atepc.FAST_LCF_ATEPC'>\t-->\tCalling Count:7\n",
            "2023-04-08 20:22:34,734 INFO: model_name:fast_lcf_atepc\t-->\tCalling Count:22229\n",
            "2023-04-08 20:22:34,734 INFO: model_path_to_save:checkpoints\t-->\tCalling Count:67\n",
            "2023-04-08 20:22:34,735 INFO: notice:This is an training example for aspect term extraction\t-->\tCalling Count:0\n",
            "2023-04-08 20:22:34,736 INFO: num_epoch:10\t-->\tCalling Count:6\n",
            "2023-04-08 20:22:34,736 INFO: num_labels:6\t-->\tCalling Count:6\n",
            "2023-04-08 20:22:34,737 INFO: optimizer:adamw\t-->\tCalling Count:6\n",
            "2023-04-08 20:22:34,737 INFO: output_dim:3\t-->\tCalling Count:50\n",
            "2023-04-08 20:22:34,737 INFO: overwrite_cache:False\t-->\tCalling Count:0\n",
            "2023-04-08 20:22:34,738 INFO: path_to_save:None\t-->\tCalling Count:1\n",
            "2023-04-08 20:22:34,738 INFO: patience:2\t-->\tCalling Count:32\n",
            "2023-04-08 20:22:34,739 INFO: pretrained_bert:bert-large-uncased\t-->\tCalling Count:20\n",
            "2023-04-08 20:22:34,739 INFO: save_mode:1\t-->\tCalling Count:60\n",
            "2023-04-08 20:22:34,744 INFO: seed:3\t-->\tCalling Count:14\n",
            "2023-04-08 20:22:34,744 INFO: sep_indices:102\t-->\tCalling Count:297840\n",
            "2023-04-08 20:22:34,745 INFO: show_metric:False\t-->\tCalling Count:0\n",
            "2023-04-08 20:22:34,745 INFO: spacy_model:en_core_web_sm\t-->\tCalling Count:11\n",
            "2023-04-08 20:22:34,745 INFO: srd_alignment:True\t-->\tCalling Count:0\n",
            "2023-04-08 20:22:34,746 INFO: task_code:ATEPC\t-->\tCalling Count:1\n",
            "2023-04-08 20:22:34,746 INFO: task_name:Aspect Term Extraction and Polarity Classification\t-->\tCalling Count:3\n",
            "2023-04-08 20:22:34,747 INFO: tokenizer:BertTokenizerFast(name_or_path='bert-large-uncased', vocab_size=30522, model_max_length=512, is_fast=True, padding_side='right', truncation_side='right', special_tokens={'bos_token': '[CLS]', 'eos_token': '[SEP]', 'unk_token': '[UNK]', 'sep_token': '[SEP]', 'pad_token': '[PAD]', 'cls_token': '[CLS]', 'mask_token': '[MASK]'})\t-->\tCalling Count:0\n",
            "2023-04-08 20:22:34,747 INFO: use_amp:False\t-->\tCalling Count:30099\n",
            "2023-04-08 20:22:34,748 INFO: use_bert_spc:True\t-->\tCalling Count:37326\n",
            "2023-04-08 20:22:34,748 INFO: use_syntax_based_SRD:False\t-->\tCalling Count:22068\n",
            "2023-04-08 20:22:34,749 INFO: verbose:False\t-->\tCalling Count:3\n",
            "2023-04-08 20:22:34,749 INFO: warmup_step:-1\t-->\tCalling Count:15054\n",
            "2023-04-08 20:22:34,750 INFO: window:lr\t-->\tCalling Count:0\n"
          ]
        }
      ],
      "source": [
        "from pyabsa import ModelSaveOption, DeviceTypeOption\n",
        "from pyabsa import DatasetItem\n",
        "import warnings\n",
        "\n",
        "warnings.filterwarnings(\"ignore\")\n",
        "# config = APCConfigManager.get_apc_config_english()  # APC task\n",
        "# dataset = '119.Yelp'\n",
        "dataset = DatasetItem(\"my_dataset\", [\"119.Yelp\", \"101.Updated\", \"116.restaurant16\", \"115.restaurant15\"])\n",
        "\n",
        "# config.pre_trained_bert_model = 'bert-base-uncased'  # 'bert-base-uncased' or 'bert-large-uncased'\n",
        "\n",
        "config.pretrained_bert= \"bert-large-uncased\"\n",
        "config.batch_size = 8\n",
        "config.patience = 2\n",
        "config.log_step = -1\n",
        "config.seed = [1, 2, 3]\n",
        "config.verbose = False  # If verbose == True, PyABSA will output the model strcture and seversal processed data examples\n",
        "config.notice = (\n",
        "    \"This is an training example for aspect term extraction\"  # for memos usage\n",
        ")\n",
        "\n",
        "trainer = ATEPC.ATEPCTrainer(\n",
        "    config=config,\n",
        "    dataset=dataset,\n",
        "    auto_device=DeviceTypeOption.AUTO,  # use cuda if available\n",
        "    # from_checkpoint=\"fast_lcf_atepc_my_dataset_cdw_apcacc_80.62_apcf1_51.06_atef1_72.4\",\n",
        "    # from_checkpoint=\"fast_lcf_atepc_custom_dataset_cdw_apcacc_73.06_apcf1_28.14_atef1_60.12\",\n",
        "    checkpoint_save_mode=ModelSaveOption.SAVE_MODEL_STATE_DICT,  # save state dict only instead of the whole model\n",
        "    load_aug=False,  # there are some augmentation dataset for integrated datasets, you use them by setting load_aug=True to improve performance\n",
        ")"
      ]
    },
    {
      "cell_type": "code",
      "execution_count": null,
      "metadata": {
        "id": "ZG4Y2mDOHO1N",
        "outputId": "581ded0b-ee9c-4a10-ec06-8d77bd309782"
      },
      "outputs": [
        {
          "name": "stderr",
          "output_type": "stream",
          "text": [
            "c:\\Users\\Swapnil\\anaconda3\\envs\\TestEnv\\lib\\site-packages\\tqdm\\auto.py:21: TqdmWarning: IProgress not found. Please update jupyter and ipywidgets. See https://ipywidgets.readthedocs.io/en/stable/user_install.html\n",
            "  from .autonotebook import tqdm as notebook_tqdm\n"
          ]
        },
        {
          "name": "stdout",
          "output_type": "stream",
          "text": [
            "[2023-04-09 17:21:58] (2.1.5) PyABSA(2.1.5): \n",
            "[New Feature] Aspect Sentiment Triplet Extraction from v2.1.0 test version (https://github.com/yangheng95/PyABSA/tree/v2/examples-v2/aspect_sentiment_triplet_extration)\n",
            "[New Feature] Aspect CategoryOpinion Sentiment Quadruple Extraction from v2.2.0 test version (https://github.com/yangheng95/PyABSA/tree/v2/examples-v2/aspect_opinion_sentiment_category_extraction)\n",
            "\n",
            "If you find any problems, please report them on GitHub. Thanks!\n",
            "The v2.x versions are not compatible with Google Colab. Please downgrade to 1.16.27.\n",
            "\n",
            "[2023-04-09 17:21:58] (2.1.5) Please specify the task code, e.g. from pyabsa import TaskCodeOption\n"
          ]
        },
        {
          "name": "stderr",
          "output_type": "stream",
          "text": [
            "c:\\Users\\Swapnil\\anaconda3\\envs\\TestEnv\\lib\\multiprocessing\\pool.py:265: ResourceWarning: unclosed running multiprocessing pool <multiprocessing.pool.Pool state=RUN pool_size=1>\n",
            "  _warn(f\"unclosed running multiprocessing pool {self!r}\",\n",
            "ResourceWarning: Enable tracemalloc to get the object allocation traceback\n"
          ]
        }
      ],
      "source": [
        "from pyabsa import available_checkpoints\n",
        "\n",
        "ckpts = (\n",
        "    available_checkpoints()\n",
        ")"
      ]
    },
    {
      "cell_type": "code",
      "execution_count": null,
      "metadata": {
        "id": "vGoctCUzHO1N",
        "outputId": "01378bbd-a29f-4c18-e158-b771600142a7"
      },
      "outputs": [
        {
          "name": "stdout",
          "output_type": "stream",
          "text": [
            "[2023-04-09 17:30:05] (2.1.5) ********** Available ATEPC model checkpoints for Version:2.1.5 (this version) **********\n",
            "[2023-04-09 17:30:05] (2.1.5) Checkpoint:fast_lcf_atepc_my_dataset_cdw_apcacc_82.16_apcf1_65.75_atef1_83.97 is not found, you can raise an issue for requesting shares of checkpoints\n",
            "[2023-04-09 17:30:05] (2.1.5) No checkpoint found in Model Hub for task: fast_lcf_atepc_my_dataset_cdw_apcacc_82.16_apcf1_65.75_atef1_83.97\n",
            "[2023-04-09 17:30:05] (2.1.5) Load aspect extractor from checkpoints\\fast_lcf_atepc_my_dataset_cdw_apcacc_82.16_apcf1_65.75_atef1_83.97\n",
            "[2023-04-09 17:30:05] (2.1.5) config: checkpoints\\fast_lcf_atepc_my_dataset_cdw_apcacc_82.16_apcf1_65.75_atef1_83.97\\fast_lcf_atepc.config\n",
            "[2023-04-09 17:30:05] (2.1.5) state_dict: checkpoints\\fast_lcf_atepc_my_dataset_cdw_apcacc_82.16_apcf1_65.75_atef1_83.97\\fast_lcf_atepc.state_dict\n",
            "[2023-04-09 17:30:05] (2.1.5) model: None\n",
            "[2023-04-09 17:30:05] (2.1.5) tokenizer: checkpoints\\fast_lcf_atepc_my_dataset_cdw_apcacc_82.16_apcf1_65.75_atef1_83.97\\fast_lcf_atepc.tokenizer\n",
            "[2023-04-09 17:30:06] (2.1.5) Set Model Device: cuda:0\n",
            "[2023-04-09 17:30:06] (2.1.5) Device Name: NVIDIA GeForce RTX 3070 Ti Laptop GPU\n"
          ]
        },
        {
          "name": "stderr",
          "output_type": "stream",
          "text": [
            "Some weights of the model checkpoint at bert-large-uncased were not used when initializing BertModel: ['cls.predictions.bias', 'cls.predictions.decoder.weight', 'cls.predictions.transform.dense.weight', 'cls.predictions.transform.LayerNorm.bias', 'cls.seq_relationship.weight', 'cls.seq_relationship.bias', 'cls.predictions.transform.dense.bias', 'cls.predictions.transform.LayerNorm.weight']\n",
            "- This IS expected if you are initializing BertModel from the checkpoint of a model trained on another task or with another architecture (e.g. initializing a BertForSequenceClassification model from a BertForPreTraining model).\n",
            "- This IS NOT expected if you are initializing BertModel from the checkpoint of a model that you expect to be exactly identical (initializing a BertForSequenceClassification model from a BertForSequenceClassification model).\n",
            "Using bos_token, but it is not set yet.\n",
            "Using eos_token, but it is not set yet.\n"
          ]
        }
      ],
      "source": [
        "aspect_extractor = ATEPC.AspectExtractor(\n",
        "    # checkpoint=\"fast_lcf_atepc_my_dataset_cdw_apcacc_82.16_apcf1_65.75_atef1_83.97\"\n",
        "    checkpoint=\"fast_lcf_atepc_my_dataset_cdw_apcacc_82.16_apcf1_65.75_atef1_83.97\"\n",
        ")  # here I use the english checkpoint which is trained on all English datasets in PyABSA"
      ]
    },
    {
      "cell_type": "code",
      "execution_count": null,
      "metadata": {
        "id": "ssHgG6Y2HO1O",
        "outputId": "6a8bdc1d-97cd-4b4e-e161-f53dc17aa5ad"
      },
      "outputs": [
        {
          "name": "stdout",
          "output_type": "stream",
          "text": [
            "[2023-04-09 17:44:04] (2.1.5) The results of aspect term extraction have been saved in d:\\Assignments\\TestCode\\TestEnv\\Aspect Term Extraction and Polarity Classification.FAST_LCF_ATEPC.result.json\n",
            "[2023-04-09 17:44:04] (2.1.5) Example 0: But the <staff:Positive Confidence:0.9954> was so nice to us .\n",
            "[2023-04-09 17:44:05] (2.1.5) The results of aspect term extraction have been saved in d:\\Assignments\\TestCode\\TestEnv\\Aspect Term Extraction and Polarity Classification.FAST_LCF_ATEPC.result.json\n",
            "[2023-04-09 17:44:05] (2.1.5) Example 0: But the <staff:Negative Confidence:0.9774> was so horrible to us .\n",
            "[2023-04-09 17:44:06] (2.1.5) The results of aspect term extraction have been saved in d:\\Assignments\\TestCode\\TestEnv\\Aspect Term Extraction and Polarity Classification.FAST_LCF_ATEPC.result.json\n",
            "[2023-04-09 17:44:06] (2.1.5) Example 0: Not only was the <food:Positive Confidence:0.9516> outstanding , but the little ` <perks:Positive Confidence:0.9638> \\ ' were great .\n",
            "[2023-04-09 17:44:07] (2.1.5) The results of aspect term extraction have been saved in d:\\Assignments\\TestCode\\TestEnv\\Aspect Term Extraction and Polarity Classification.FAST_LCF_ATEPC.result.json\n",
            "[2023-04-09 17:44:07] (2.1.5) Example 0: It took half an hour to get our <check:Positive Confidence:0.9955> , which was perfect since we could sit , have drinks and talk !\n",
            "[2023-04-09 17:44:07] (2.1.5) The results of aspect term extraction have been saved in d:\\Assignments\\TestCode\\TestEnv\\Aspect Term Extraction and Polarity Classification.FAST_LCF_ATEPC.result.json\n",
            "[2023-04-09 17:44:07] (2.1.5) Example 0: It was pleasantly uncrowded , the <service:Positive Confidence:0.9959> was delightful , the <garden:Positive Confidence:0.9959> adorable\n",
            "[2023-04-09 17:44:08] (2.1.5) The results of aspect term extraction have been saved in d:\\Assignments\\TestCode\\TestEnv\\Aspect Term Extraction and Polarity Classification.FAST_LCF_ATEPC.result.json\n",
            "[2023-04-09 17:44:08] (2.1.5) Example 0: It was delightfully uncrowded , the <service:Positive Confidence:0.9908> was excellent , and the <garden:Positive Confidence:0.9907> was charming . the <food:Positive Confidence:0.9907> - LRB - from appetizers to entrees - RRB - was delectable .\n",
            "[2023-04-09 17:44:09] (2.1.5) The results of aspect term extraction have been saved in d:\\Assignments\\TestCode\\TestEnv\\Aspect Term Extraction and Polarity Classification.FAST_LCF_ATEPC.result.json\n",
            "[2023-04-09 17:44:09] (2.1.5) Example 0: How pretentious and inappropriate for <MJ Grill:Negative Confidence:0.93> to claim that it provides power <lunch:Negative Confidence:0.9334> and <dinners:Negative Confidence:0.933> !\n",
            "[2023-04-09 17:44:10] (2.1.5) The results of aspect term extraction have been saved in d:\\Assignments\\TestCode\\TestEnv\\Aspect Term Extraction and Polarity Classification.FAST_LCF_ATEPC.result.json\n",
            "[2023-04-09 17:44:10] (2.1.5) Example 0: The <food:Positive Confidence:0.552> was good , but the <service:Positive Confidence:0.5499> was slow .\n",
            "[2023-04-09 17:44:10] (2.1.5) The results of aspect term extraction have been saved in d:\\Assignments\\TestCode\\TestEnv\\Aspect Term Extraction and Polarity Classification.FAST_LCF_ATEPC.result.json\n",
            "[2023-04-09 17:44:10] (2.1.5) Example 0: The restaurant ' s <decor:Positive Confidence:0.9911> was chic and sophisticated , with beautiful <floral arrangements:Positive Confidence:0.9912> and elegant <lighting:Positive Confidence:0.9909> that set the perfect <ambiance:Positive Confidence:0.991> for an upscale dining experience . The <menu:Positive Confidence:0.9909> was equally impressive , offering a wide variety of French and international cuisine that was expertly prepared and beautifully presented .\n"
          ]
        }
      ],
      "source": [
        "atepc_examples = [\n",
        "    \"But the staff was so nice to us .\",\n",
        "    \"But the staff was so horrible to us .\",\n",
        "    r\"Not only was the food outstanding , but the little ` perks \\' were great .\",\n",
        "    \"It took half an hour to get our check , which was perfect since we could sit , have drinks and talk !\",\n",
        "    \"It was pleasantly uncrowded , the service was delightful , the garden adorable\",\n",
        "    \"It was delightfully uncrowded, the service was excellent, and the garden was charming.\"\n",
        "\n",
        "    \"the food -LRB- from appetizers to entrees -RRB- was delectable .\",\n",
        "    \"How pretentious and inappropriate for MJ Grill to claim that it provides power lunch and dinners !\",\n",
        "    \"The food was good , but the service was slow .\",\n",
        "    \"The restaurant's decor was chic and sophisticated, with beautiful floral arrangements and elegant lighting that set the perfect ambiance for an upscale dining experience. The menu was equally impressive, offering a wide variety of French and international cuisine that was expertly prepared and beautifully presented.\"\n",
        "]\n",
        "# predict interface accepts a list of example or a single example\n",
        "for ex in atepc_examples:\n",
        "    result = aspect_extractor.predict(\n",
        "        text=ex,\n",
        "        print_result=True,\n",
        "        ignore_error=True,  # ignore an invalid example, if it is False, invalid examples will raise Exceptions\n",
        "        eval_batch_size=32,\n",
        "    )\n",
        "\n",
        "\n"
      ]
    },
    {
      "cell_type": "code",
      "execution_count": null,
      "metadata": {
        "id": "6Tr9Bz0ZHO1P"
      },
      "outputs": [],
      "source": [
        "\n",
        "from pyabsa import AspectTermExtraction as ATE\n",
        "\n",
        "# for example, these are the default values of the configuration, you can change them to your own values\n",
        "# you can refer to the task-specific configuration in pyabsa.tasks.*.configuration.*config.py for more details\n",
        "# if you are developing based on the pyabsa, you can set any value you want. e.g. config.my_parameter = 'my_parameter'\n",
        "\n",
        "transformers_based_config = {'model': ATE.ATEPCModelList.LCF_ATEPC,\n",
        "                             # model class, check available models in APCModelList, ATEPCModelList and TCModelList,\n",
        "                             'optimizer': \"adamw\",  # Optimizer class and str are both acceptable (from pytorch)\n",
        "                             'learning_rate': 0.00003,\n",
        "                             # The default learning of transformers-based models generally ranges in [1e-5, 5e-5]\n",
        "                             'pretrained_bert': \"bert-large-uncased\",\n",
        "                             # The pretrained_bert accepts model from the Huggingface Hub or local model, which use the AutoModel implementation\n",
        "                             'cache_dataset': True,\n",
        "                             # Don't cache the dataset in development, changing a param in the config probably triggers new caching process\n",
        "                             'overwrite_cache': False,  # Overwrite the cache if exists\n",
        "                             'use_amp': False,  # Use automatic mixed precision training\n",
        "                             'glove_or_word2vec_path': None,\n",
        "                             # The path of glove or word2vec file, if None, download the glove-840B embedding file from the Internet\n",
        "                             'warmup_step': -1,  # Default to not use warmup_step, this is an experimental feature\n",
        "                             'use_bert_spc': False,\n",
        "                             # Use [CLS] + Context + [SEP] + aspect +[SEP] input format , which is helpful in ABSA\n",
        "                             'show_metric': False,\n",
        "                             # Display classification report during/after training, e.g., to see precision, recall, f1-score\n",
        "                             'max_seq_len': 80,\n",
        "                             # The max text  input length in modeling, longer texts will be truncated\n",
        "                             'patience': 5,  # The patience tells trainer to stop in the `patience`  of epochs\n",
        "                             'SRD': 3,\n",
        "                             # This param is for local context focus mechanism, you don't need to change this param generally\n",
        "                             'use_syntax_based_SRD': False,\n",
        "                             # This parameter use syntax-based SRD in all models involving LCF mechanism\n",
        "                             'lcf': \"cdw\",  # Type of LCF mechanism, accepts 'cdm' and 'cdw'\n",
        "                             'window': \"lr\",  # This param only effects in LSA-models, refer to the paper of LSA\n",
        "                             'dropout': 0.5,  # Refer to the original paper of dropout\n",
        "                             'l2reg': 0.000001,\n",
        "                             # This param is related to specific model, you need try some values to find the best setting\n",
        "                             'num_epoch': 10,  # If you have enough, please set it to 30-40\n",
        "                             'batch_size': 16,  # If you have enough, please set it to 32 or 64\n",
        "                             'initializer': 'xavier_uniform_',  # No used in transformers-based models\n",
        "                             'seed': 52,  # This param accepts a integer or a list/set of integers\n",
        "                             'output_dim': 2,\n",
        "                             # The output dimension of the model, 2 for binary classification, 3 for ternary classification\n",
        "                             'log_step': 50,  # alias for evaluate_steps. Accepts -1 (means evaluate every epoch) or an integer\n",
        "                             'gradient_accumulation_steps': 1,  # Unused\n",
        "                             'dynamic_truncate': True,\n",
        "                             # This param applies a aspect-centered truncation instead of head truncation\n",
        "                             'srd_alignment': True,\n",
        "                             # for srd_alignment, try to align the tree nodes of syntax (SpaCy) and tokenization (transformers)\n",
        "                             'evaluate_begin': 0  # No evaluation until epoch 'evaluate_begin', aims at saving time\n",
        "                             }"
      ]
    },
    {
      "cell_type": "code",
      "execution_count": null,
      "metadata": {
        "id": "ws7QZGbbHO1Q",
        "outputId": "eb974348-cbd9-481c-c818-dcfee751983c"
      },
      "outputs": [
        {
          "data": {
            "text/plain": [
              "[pyabsa.tasks.AspectTermExtraction.models.__lcf__.bert_base_atepc.BERT_BASE_ATEPC,\n",
              " pyabsa.tasks.AspectTermExtraction.models.__lcf__.fast_lcf_atepc.FAST_LCF_ATEPC,\n",
              " pyabsa.tasks.AspectTermExtraction.models.__lcf__.fast_lcfs_atepc.FAST_LCFS_ATEPC,\n",
              " pyabsa.tasks.AspectTermExtraction.models.__lcf__.lcf_atepc.LCF_ATEPC,\n",
              " pyabsa.tasks.AspectTermExtraction.models.__lcf__.lcf_atepc_large.LCF_ATEPC_LARGE,\n",
              " pyabsa.tasks.AspectTermExtraction.models.__lcf__.lcfs_atepc.LCFS_ATEPC,\n",
              " pyabsa.tasks.AspectTermExtraction.models.__lcf__.lcfs_atepc_large.LCFS_ATEPC_LARGE]"
            ]
          },
          "execution_count": 7,
          "metadata": {},
          "output_type": "execute_result"
        }
      ],
      "source": [
        "ATEPC.ATEPCModelList()"
      ]
    },
    {
      "cell_type": "markdown",
      "metadata": {
        "id": "X1oe80enHO1S"
      },
      "source": [
        "## Testing the model"
      ]
    }
  ],
  "metadata": {
    "kernelspec": {
      "display_name": "Python 3 (ipykernel)",
      "language": "python",
      "name": "python3"
    },
    "language_info": {
      "codemirror_mode": {
        "name": "ipython",
        "version": 3
      },
      "file_extension": ".py",
      "mimetype": "text/x-python",
      "name": "python",
      "nbconvert_exporter": "python",
      "pygments_lexer": "ipython3",
      "version": "3.9.16"
    },
    "colab": {
      "provenance": []
    }
  },
  "nbformat": 4,
  "nbformat_minor": 0
}